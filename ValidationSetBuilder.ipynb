{
 "cells": [
  {
   "cell_type": "code",
   "execution_count": 38,
   "metadata": {
    "collapsed": false
   },
   "outputs": [],
   "source": [
    "import h5py\n",
    "import os\n",
    "\n",
    "from keras.applications import VGG16\n",
    "from keras.preprocessing import image\n",
    "from keras.applications.vgg16 import preprocess_input\n",
    "from keras.models import Model\n",
    "\n",
    "import numpy as np\n",
    "\n",
    "from sklearn.preprocessing import StandardScaler\n",
    "from sklearn.cluster import KMeans\n"
   ]
  },
  {
   "cell_type": "code",
   "execution_count": 41,
   "metadata": {
    "collapsed": false
   },
   "outputs": [],
   "source": [
    "#path to training data\n",
    "DATA_PATH = '../train/'\n",
    "#DATA_PATH = \"..\\\\..\\\\fish\\\\train\\\\\"\n",
    "\n",
    "#Number of clusters for K-Means\n",
    "N_CLUSTS = 250\n",
    "\n",
    "#Number of clusters used for validation\n",
    "N_VAL_CLUSTS = 50\n",
    "\n",
    "SEED = 42\n",
    "np.random.seed(SEED)\n",
    "\n",
    "IMG_WIDTH = 640\n",
    "IMG_HEIGHT = 360"
   ]
  },
  {
   "cell_type": "code",
   "execution_count": 4,
   "metadata": {
    "collapsed": false
   },
   "outputs": [
    {
     "name": "stdout",
     "output_type": "stream",
     "text": [
      "Downloading data from http://www.platform.ai/models/vgg16_bn_conv.h5\n",
      "58679296/58902640 [============================>.] - ETA: 0sDownloading data from http://www.platform.ai/models/imagenet_class_index.json\n",
      "40960/35363 [==================================] - 0s \n"
     ]
    }
   ],
   "source": [
    "base_model = VGG16(weights = 'imagenet', include_top = False, input_shape = (IMG_HEIGHT, IMG_WIDTH, 3))\n",
    "model = Model(input = base_model.input, output = base_model.get_layer('block4_pool').output)"
   ]
  },
  {
   "cell_type": "code",
   "execution_count": 5,
   "metadata": {
    "collapsed": true
   },
   "outputs": [],
   "source": [
    "def preprocess_image(path):\n",
    "    img = image.load_img(path, target_size = (IMG_HEIGHT, IMG_WIDTH))\n",
    "    arr = image.img_to_array(img)\n",
    "    arr = np.expand_dims(arr, axis = 0)\n",
    "    return preprocess_input(arr)"
   ]
  },
  {
   "cell_type": "code",
   "execution_count": 42,
   "metadata": {
    "collapsed": false
   },
   "outputs": [
    {
     "data": {
      "text/plain": [
       "3777"
      ]
     },
     "execution_count": 42,
     "metadata": {},
     "output_type": "execute_result"
    }
   ],
   "source": [
    "subsample = []\n",
    "for fish in os.listdir(DATA_PATH):\n",
    "    if(os.path.isfile(os.path.join(DATA_PATH, fish))): \n",
    "        continue\n",
    "    subsample_class = [os.path.join(DATA_PATH, fish, fn) for \n",
    "                       fn in os.listdir(os.path.join(DATA_PATH, fish))]\n",
    "    subsample += subsample_class\n",
    "len(subsample)"
   ]
  },
  {
   "cell_type": "code",
   "execution_count": 7,
   "metadata": {
    "collapsed": false
   },
   "outputs": [
    {
     "name": "stdout",
     "output_type": "stream",
     "text": [
      "CPU times: user 7min 25s, sys: 1min 49s, total: 9min 15s\n",
      "Wall time: 10min 8s\n"
     ]
    }
   ],
   "source": [
    "%%time\n",
    "preprocessed_images = np.vstack([preprocess_image(fn) for fn in subsample])\n",
    "vgg_features = model.predict(preprocessed_images)\n",
    "vgg_features = vgg_features.reshape(len(subsample), -1)"
   ]
  },
  {
   "cell_type": "code",
   "execution_count": 18,
   "metadata": {
    "collapsed": false
   },
   "outputs": [
    {
     "name": "stdout",
     "output_type": "stream",
     "text": [
      "CPU times: user 1min 22s, sys: 9.74 s, total: 1min 31s\n",
      "Wall time: 55min 13s\n"
     ]
    }
   ],
   "source": [
    "%%time\n",
    "km = KMeans(n_clusters = N_CLUSTS, n_jobs = -1)\n",
    "clust_preds = km.fit_predict(StandardScaler().fit_transform(TwoDim_dataset))"
   ]
  },
  {
   "cell_type": "code",
   "execution_count": null,
   "metadata": {
    "collapsed": true
   },
   "outputs": [],
   "source": [
    "save_array('clusters.dat', clust_preds)\n",
    "#clust_preds = load_array('clusters.dat')"
   ]
  },
  {
   "cell_type": "code",
   "execution_count": null,
   "metadata": {
    "collapsed": true
   },
   "outputs": [],
   "source": [
    "val_clusters = np.random.choice(range(N_CLUSTS), N_VAL_CLUSTS, replace = False)\n",
    "val_sample = np.array(subsample)[np.in1d(clust_preds, val_clusters)]"
   ]
  },
  {
   "cell_type": "code",
   "execution_count": 31,
   "metadata": {
    "collapsed": false
   },
   "outputs": [
    {
     "data": {
      "image/png": "[encoded data removed]",
      "text/plain": [
       "<matplotlib.figure.Figure at 0x10fddf28>"
      ]
     },
     "metadata": {},
     "output_type": "display_data"
    }
   ],
   "source": [
    "import matplotlib.pyplot as plt\n",
    "plt.hist(clust_preds, bins=500)\n",
    "plt.show()"
   ]
  },
  {
   "cell_type": "code",
   "execution_count": 53,
   "metadata": {
    "collapsed": false
   },
   "outputs": [
    {
     "data": {
      "text/plain": [
       "array([201, 309, 194,  49, 309, 218, 266,  49, 218, 204, 201,  49, 309, 194,  49, 358, 482,  49, 192])"
      ]
     },
     "execution_count": 53,
     "metadata": {},
     "output_type": "execute_result"
    }
   ],
   "source": [
    "clust_preds[1:20]"
   ]
  }
 ],
 "metadata": {
  "anaconda-cloud": {},
  "kernelspec": {
   "display_name": "Python [conda root]",
   "language": "python",
   "name": "conda-root-py"
  },
  "language_info": {
   "codemirror_mode": {
    "name": "ipython",
    "version": 2
   },
   "file_extension": ".py",
   "mimetype": "text/x-python",
   "name": "python",
   "nbconvert_exporter": "python",
   "pygments_lexer": "ipython2",
   "version": "2.7.12"
  }
 },
 "nbformat": 4,
 "nbformat_minor": 1
}
