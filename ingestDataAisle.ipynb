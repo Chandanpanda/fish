{
 "cells": [
  {
   "cell_type": "markdown",
   "metadata": {},
   "source": [
    "# Create the dataset for the neural network"
   ]
  },
  {
   "cell_type": "markdown",
   "metadata": {},
   "source": [
    "Setup"
   ]
  },
  {
   "cell_type": "code",
   "execution_count": 1,
   "metadata": {},
   "outputs": [],
   "source": [
    "import pyspark\n",
    "import pandas as pd\n",
    "import os\n",
    "import time\n",
    "from pyspark.sql.types import StructType, StructField,StringType, FloatType, IntegerType\n",
    "from pyspark.sql import Row\n",
    "from pyspark.sql import functions as F\n",
    "from pyspark.sql import Window\n",
    "import operator\n",
    "import numpy as np\n",
    "import random\n",
    "import math\n",
    "import re\n",
    "import csv\n",
    "from joblib import Parallel, delayed\n",
    "import multiprocessing\n",
    "import bcolz"
   ]
  },
  {
   "cell_type": "code",
   "execution_count": 2,
   "metadata": {
    "collapsed": true
   },
   "outputs": [],
   "source": [
    "from pyspark import SparkConf, SparkContext\n",
    "\n",
    "conf = SparkConf()\n",
    "conf.set(\"spark.driver.maxResultSize\", \"240g\")\n",
    "conf.set('spark.executor.memory', '32g')\n",
    "conf.set('spark.driver.memory', '180g')\n",
    "\n",
    "sc = SparkContext.getOrCreate(conf=conf)\n",
    "\n",
    "from pyspark.sql import SQLContext\n",
    "sqlContext = SQLContext(sc)"
   ]
  },
  {
   "cell_type": "code",
   "execution_count": 3,
   "metadata": {},
   "outputs": [
    {
     "data": {
      "text/plain": [
       "[(u'spark.executor.memory', u'32g'),\n",
       " (u'spark.driver.memory', u'180g'),\n",
       " (u'spark.app.id', u'local-1528085779629'),\n",
       " (u'spark.driver.maxResultSize', u'240g'),\n",
       " (u'spark.driver.host', u'ip-172-31-16-121.eu-west-1.compute.internal'),\n",
       " (u'spark.rdd.compress', u'True'),\n",
       " (u'spark.serializer.objectStreamReset', u'100'),\n",
       " (u'spark.master', u'local[*]'),\n",
       " (u'spark.executor.id', u'driver'),\n",
       " (u'spark.driver.port', u'42904'),\n",
       " (u'spark.submit.deployMode', u'client'),\n",
       " (u'spark.ui.showConsoleProgress', u'true'),\n",
       " (u'spark.app.name', u'pyspark-shell')]"
      ]
     },
     "execution_count": 3,
     "metadata": {},
     "output_type": "execute_result"
    }
   ],
   "source": [
    "SparkContext.getConf(sc).getAll()"
   ]
  },
  {
   "cell_type": "code",
   "execution_count": 4,
   "metadata": {},
   "outputs": [
    {
     "data": {
      "text/plain": [
       "u'/cat/home/ubuntu/ikrt/mycode'"
      ]
     },
     "execution_count": 4,
     "metadata": {},
     "output_type": "execute_result"
    }
   ],
   "source": [
    "debug = False\n",
    "N = 60\n",
    "MISSING_DEPARTMENT=21\n",
    "MISSING_AISLE=135\n",
    "products = \"/cat/home/ubuntu/ikrt/mycode/products.csv\"\n",
    "%pwd"
   ]
  },
  {
   "cell_type": "code",
   "execution_count": 5,
   "metadata": {
    "collapsed": true
   },
   "outputs": [],
   "source": [
    "sqlContext.clearCache()"
   ]
  },
  {
   "cell_type": "code",
   "execution_count": 6,
   "metadata": {
    "collapsed": true
   },
   "outputs": [],
   "source": [
    "path = 'C:\\\\Users\\\\chapanda\\\\OneDrive - Epsilon\\\\cp\\\\ACG\\\\03_Practise\\\\RnD\\\\crosssell\\\\instacart-basket-prediction-master\\\\data\\\\raw'\n",
    "path_out = 'C:\\\\Users\\\\chapanda\\\\data'\n",
    "path = ''\n",
    "path_out = ''\n"
   ]
  },
  {
   "cell_type": "code",
   "execution_count": 7,
   "metadata": {
    "collapsed": true
   },
   "outputs": [],
   "source": [
    "start_time = 0\n",
    "def tic():\n",
    "    global start_time\n",
    "    start_time = time.time()\n",
    "def toc():\n",
    "    global start_time\n",
    "    elapsed_time = (time.time() - start_time)\n",
    "    print(\"took me \" + str(round(elapsed_time, 3))+\" seconds to do this..\")"
   ]
  },
  {
   "cell_type": "code",
   "execution_count": 8,
   "metadata": {
    "collapsed": true
   },
   "outputs": [],
   "source": [
    "def Tofloat(s):\n",
    "    try:\n",
    "        return float(s)\n",
    "    except:\n",
    "        return None"
   ]
  },
  {
   "cell_type": "code",
   "execution_count": 9,
   "metadata": {
    "collapsed": true
   },
   "outputs": [],
   "source": [
    "def ToInt(s):\n",
    "    try:\n",
    "        return int(s)\n",
    "    except:\n",
    "        return None"
   ]
  },
  {
   "cell_type": "code",
   "execution_count": 10,
   "metadata": {
    "collapsed": true
   },
   "outputs": [],
   "source": [
    "def ClipNPad(bits, maxBits):\n",
    "    bits = bits[:maxBits]\n",
    "    paddedBits = bits + [0]*(maxBits - len(bits))\n",
    "    return paddedBits"
   ]
  },
  {
   "cell_type": "markdown",
   "metadata": {},
   "source": [
    "# Read Data"
   ]
  },
  {
   "cell_type": "markdown",
   "metadata": {},
   "source": [
    " Read User Level Historical Information "
   ]
  },
  {
   "cell_type": "code",
   "execution_count": 11,
   "metadata": {},
   "outputs": [
    {
     "data": {
      "text/html": [
       "<div>\n",
       "<table border=\"1\" class=\"dataframe\">\n",
       "  <thead>\n",
       "    <tr style=\"text-align: right;\">\n",
       "      <th></th>\n",
       "      <th>order_id</th>\n",
       "      <th>user_id</th>\n",
       "      <th>eval_set</th>\n",
       "      <th>order_number</th>\n",
       "      <th>order_dow</th>\n",
       "      <th>order_hour_of_day</th>\n",
       "      <th>days_since_prior_order</th>\n",
       "    </tr>\n",
       "  </thead>\n",
       "  <tbody>\n",
       "    <tr>\n",
       "      <th>0</th>\n",
       "      <td>2539329</td>\n",
       "      <td>1</td>\n",
       "      <td>prior</td>\n",
       "      <td>1</td>\n",
       "      <td>2</td>\n",
       "      <td>8</td>\n",
       "      <td>NaN</td>\n",
       "    </tr>\n",
       "    <tr>\n",
       "      <th>1</th>\n",
       "      <td>2398795</td>\n",
       "      <td>1</td>\n",
       "      <td>prior</td>\n",
       "      <td>2</td>\n",
       "      <td>3</td>\n",
       "      <td>7</td>\n",
       "      <td>15.0</td>\n",
       "    </tr>\n",
       "    <tr>\n",
       "      <th>2</th>\n",
       "      <td>473747</td>\n",
       "      <td>1</td>\n",
       "      <td>prior</td>\n",
       "      <td>3</td>\n",
       "      <td>3</td>\n",
       "      <td>12</td>\n",
       "      <td>21.0</td>\n",
       "    </tr>\n",
       "    <tr>\n",
       "      <th>3</th>\n",
       "      <td>2254736</td>\n",
       "      <td>1</td>\n",
       "      <td>prior</td>\n",
       "      <td>4</td>\n",
       "      <td>4</td>\n",
       "      <td>7</td>\n",
       "      <td>29.0</td>\n",
       "    </tr>\n",
       "    <tr>\n",
       "      <th>4</th>\n",
       "      <td>431534</td>\n",
       "      <td>1</td>\n",
       "      <td>prior</td>\n",
       "      <td>5</td>\n",
       "      <td>4</td>\n",
       "      <td>15</td>\n",
       "      <td>28.0</td>\n",
       "    </tr>\n",
       "    <tr>\n",
       "      <th>5</th>\n",
       "      <td>3367565</td>\n",
       "      <td>1</td>\n",
       "      <td>prior</td>\n",
       "      <td>6</td>\n",
       "      <td>2</td>\n",
       "      <td>7</td>\n",
       "      <td>19.0</td>\n",
       "    </tr>\n",
       "    <tr>\n",
       "      <th>6</th>\n",
       "      <td>550135</td>\n",
       "      <td>1</td>\n",
       "      <td>prior</td>\n",
       "      <td>7</td>\n",
       "      <td>1</td>\n",
       "      <td>9</td>\n",
       "      <td>20.0</td>\n",
       "    </tr>\n",
       "    <tr>\n",
       "      <th>7</th>\n",
       "      <td>3108588</td>\n",
       "      <td>1</td>\n",
       "      <td>prior</td>\n",
       "      <td>8</td>\n",
       "      <td>1</td>\n",
       "      <td>14</td>\n",
       "      <td>14.0</td>\n",
       "    </tr>\n",
       "    <tr>\n",
       "      <th>8</th>\n",
       "      <td>2295261</td>\n",
       "      <td>1</td>\n",
       "      <td>prior</td>\n",
       "      <td>9</td>\n",
       "      <td>1</td>\n",
       "      <td>16</td>\n",
       "      <td>0.0</td>\n",
       "    </tr>\n",
       "    <tr>\n",
       "      <th>9</th>\n",
       "      <td>2550362</td>\n",
       "      <td>1</td>\n",
       "      <td>prior</td>\n",
       "      <td>10</td>\n",
       "      <td>4</td>\n",
       "      <td>8</td>\n",
       "      <td>30.0</td>\n",
       "    </tr>\n",
       "  </tbody>\n",
       "</table>\n",
       "</div>"
      ],
      "text/plain": [
       "   order_id  user_id eval_set  order_number  order_dow  order_hour_of_day  \\\n",
       "0   2539329        1    prior             1          2                  8   \n",
       "1   2398795        1    prior             2          3                  7   \n",
       "2    473747        1    prior             3          3                 12   \n",
       "3   2254736        1    prior             4          4                  7   \n",
       "4    431534        1    prior             5          4                 15   \n",
       "5   3367565        1    prior             6          2                  7   \n",
       "6    550135        1    prior             7          1                  9   \n",
       "7   3108588        1    prior             8          1                 14   \n",
       "8   2295261        1    prior             9          1                 16   \n",
       "9   2550362        1    prior            10          4                  8   \n",
       "\n",
       "   days_since_prior_order  \n",
       "0                     NaN  \n",
       "1                    15.0  \n",
       "2                    21.0  \n",
       "3                    29.0  \n",
       "4                    28.0  \n",
       "5                    19.0  \n",
       "6                    20.0  \n",
       "7                    14.0  \n",
       "8                     0.0  \n",
       "9                    30.0  "
      ]
     },
     "execution_count": 11,
     "metadata": {},
     "output_type": "execute_result"
    }
   ],
   "source": [
    "sample_file = pd.read_csv(path + \"orders.csv\",nrows=10)\n",
    "sample_file"
   ]
  },
  {
   "cell_type": "code",
   "execution_count": 12,
   "metadata": {
    "collapsed": true
   },
   "outputs": [],
   "source": [
    "data_columns =  [ \n",
    "                   ['order_id',IntegerType(), True],\n",
    "                   ['user_id',IntegerType(), True],\n",
    "                   ['eval_set',StringType(), True],\n",
    "                   ['order_number',IntegerType(), True],\n",
    "                   ['order_dow',IntegerType(), True],\n",
    "                   ['order_hour_of_day',IntegerType(), True],\n",
    "                   ['days_since_prior_order',FloatType(), True]\n",
    "                 ]\n",
    "fields = [StructField(field_name, field_type, null_type) for field_name, field_type, null_type in data_columns]\n",
    "schema = StructType(fields)"
   ]
  },
  {
   "cell_type": "code",
   "execution_count": 13,
   "metadata": {},
   "outputs": [
    {
     "name": "stdout",
     "output_type": "stream",
     "text": [
      "took me 3.538 seconds to do this..\n"
     ]
    }
   ],
   "source": [
    "tic()\n",
    "orders = sc.textFile(path + \"orders.csv\") \n",
    "header = orders.first() #extract header\n",
    "orders = orders.filter(lambda x: x[0] != header[0])   #filter out header\n",
    "#convert data type\n",
    "orders_csv = orders.map(lambda x: x.split(',')).map(lambda x: [ToInt(x[0]), ToInt(x[1]), x[2]\\\n",
    "                                                               ,  ToInt(x[3]), ToInt(x[4]),ToInt(x[5]),Tofloat(x[6])])\n",
    "orders = sqlContext.createDataFrame(orders_csv, schema)\n",
    "orders = orders.fillna(0, subset=['days_since_prior_order'])\n",
    "toc()"
   ]
  },
  {
   "cell_type": "code",
   "execution_count": 14,
   "metadata": {},
   "outputs": [
    {
     "data": {
      "text/plain": [
       "[[2539329, 1, u'prior', 1, 2, 8, None], [2398795, 1, u'prior', 2, 3, 7, 15.0]]"
      ]
     },
     "execution_count": 14,
     "metadata": {},
     "output_type": "execute_result"
    }
   ],
   "source": [
    "orders_csv.take(2)"
   ]
  },
  {
   "cell_type": "code",
   "execution_count": 15,
   "metadata": {},
   "outputs": [
    {
     "data": {
      "text/plain": [
       "[Row(order_id=2539329, user_id=1, eval_set=u'prior', order_number=1, order_dow=2, order_hour_of_day=8, days_since_prior_order=0.0),\n",
       " Row(order_id=2398795, user_id=1, eval_set=u'prior', order_number=2, order_dow=3, order_hour_of_day=7, days_since_prior_order=15.0)]"
      ]
     },
     "execution_count": 15,
     "metadata": {},
     "output_type": "execute_result"
    }
   ],
   "source": [
    "orders.take(2)"
   ]
  },
  {
   "cell_type": "markdown",
   "metadata": {},
   "source": [
    " Read Product Names"
   ]
  },
  {
   "cell_type": "code",
   "execution_count": 16,
   "metadata": {
    "collapsed": true
   },
   "outputs": [],
   "source": [
    "# define udf\n",
    "def sorter(l):\n",
    "    res = sorted(l, key=operator.itemgetter(0))\n",
    "    return [item[1] for item in res]\n",
    "sort_udf = F.udf(sorter)"
   ]
  },
  {
   "cell_type": "code",
   "execution_count": 17,
   "metadata": {},
   "outputs": [
    {
     "name": "stdout",
     "output_type": "stream",
     "text": [
      "took me 0.0 seconds to do this..\n"
     ]
    }
   ],
   "source": [
    "tic()\n",
    "\n",
    "if debug:\n",
    "    user_id__days_since_prior_order_history = orders.groupby(['user_id'])\\\n",
    "            .agg(F.collect_list(F.struct(\"order_number\",\"days_since_prior_order\")).alias('list_col'))\n",
    "    user_id__days_since_prior_order_history.select('user_id', sort_udf(\"list_col\")\\\n",
    "                                                   .alias(\"days_since_prior_order_history\")).show(n=3,truncate=False)\n",
    "\n",
    "toc()     "
   ]
  },
  {
   "cell_type": "code",
   "execution_count": 18,
   "metadata": {},
   "outputs": [
    {
     "name": "stdout",
     "output_type": "stream",
     "text": [
      "took me 0.0 seconds to do this..\n"
     ]
    }
   ],
   "source": [
    "tic()\n",
    "\n",
    "if debug:\n",
    "    user_id__order_dow_history = orders.groupby(['user_id'])\\\n",
    "            .agg(F.collect_list(F.struct(\"order_number\",\"order_dow\")).alias('list_col'))\n",
    "    user_id__order_dow_history.select('user_id', sort_udf(\"list_col\")\\\n",
    "                                                   .alias(\"order_dow_history\")).show(n=3,truncate=False)\n",
    "\n",
    "toc()     "
   ]
  },
  {
   "cell_type": "code",
   "execution_count": 19,
   "metadata": {},
   "outputs": [
    {
     "name": "stdout",
     "output_type": "stream",
     "text": [
      "took me 0.0 seconds to do this..\n"
     ]
    }
   ],
   "source": [
    "tic()\n",
    "\n",
    "if debug:\n",
    "    user_id__order_hour_of_day_history = orders.groupby(['user_id'])\\\n",
    "            .agg(F.collect_list(F.struct(\"order_number\",\"order_hour_of_day\")).alias('list_col'))\n",
    "    user_id__order_hour_of_day_history.select('user_id', sort_udf(\"list_col\")\\\n",
    "                                                   .alias(\"order_hour_of_day_history\")).show(n=3,truncate=False)\n",
    "\n",
    "toc() "
   ]
  },
  {
   "cell_type": "code",
   "execution_count": 20,
   "metadata": {
    "scrolled": true
   },
   "outputs": [
    {
     "name": "stdout",
     "output_type": "stream",
     "text": [
      "took me 0.0 seconds to do this..\n"
     ]
    }
   ],
   "source": [
    "tic()\n",
    "\n",
    "if debug:\n",
    "    user_id__order_number_history = orders.groupby(['user_id'])\\\n",
    "            .agg(F.collect_list(F.struct(\"order_number\",\"order_number\")).alias('list_col'))\n",
    "    user_id__order_number_history.select('user_id', sort_udf(\"list_col\")\\\n",
    "                                                   .alias(\"order_number_history\")).show(n=3,truncate=False)\n",
    "\n",
    "toc() "
   ]
  },
  {
   "cell_type": "code",
   "execution_count": 21,
   "metadata": {},
   "outputs": [
    {
     "name": "stdout",
     "output_type": "stream",
     "text": [
      "took me 0.137 seconds to do this..\n"
     ]
    }
   ],
   "source": [
    "tic()\n",
    "\n",
    "user_order_history = orders.groupby(['user_id'])\\\n",
    "        .agg(F.collect_list(F.struct(\"order_number\",\"order_number\")).alias('list_col'),\\\n",
    "            F.collect_list(F.struct(\"order_number\",\"order_hour_of_day\")).alias('list_col2'),\\\n",
    "             F.collect_list(F.struct(\"order_number\",\"order_dow\")).alias('list_col3'),\\\n",
    "             F.collect_list(F.struct(\"order_number\",\"days_since_prior_order\")).alias('list_col4'))\\\n",
    "        .select('user_id', sort_udf(\"list_col\").alias(\"order_number_history\"),\\\n",
    "                                    sort_udf(\"list_col2\").alias(\"order_hour_of_day_history\"),\\\n",
    "                                    sort_udf(\"list_col3\").alias(\"order_dow_history\"),\\\n",
    "                                    sort_udf(\"list_col4\").alias(\"days_since_prior_order_history\"))\n",
    "if debug:\n",
    "    user_order_history.show(n=3,truncate=False)\n",
    "\n",
    "toc() "
   ]
  },
  {
   "cell_type": "markdown",
   "metadata": {},
   "source": [
    "Read item information"
   ]
  },
  {
   "cell_type": "code",
   "execution_count": 22,
   "metadata": {},
   "outputs": [
    {
     "data": {
      "text/html": [
       "<div>\n",
       "<table border=\"1\" class=\"dataframe\">\n",
       "  <thead>\n",
       "    <tr style=\"text-align: right;\">\n",
       "      <th></th>\n",
       "      <th>product_id</th>\n",
       "      <th>product_name</th>\n",
       "      <th>aisle_id</th>\n",
       "      <th>department_id</th>\n",
       "    </tr>\n",
       "  </thead>\n",
       "  <tbody>\n",
       "    <tr>\n",
       "      <th>0</th>\n",
       "      <td>1</td>\n",
       "      <td>Chocolate Sandwich Cookies</td>\n",
       "      <td>61</td>\n",
       "      <td>19</td>\n",
       "    </tr>\n",
       "    <tr>\n",
       "      <th>1</th>\n",
       "      <td>2</td>\n",
       "      <td>All-Seasons Salt</td>\n",
       "      <td>104</td>\n",
       "      <td>13</td>\n",
       "    </tr>\n",
       "    <tr>\n",
       "      <th>2</th>\n",
       "      <td>3</td>\n",
       "      <td>Robust Golden Unsweetened Oolong Tea</td>\n",
       "      <td>94</td>\n",
       "      <td>7</td>\n",
       "    </tr>\n",
       "    <tr>\n",
       "      <th>3</th>\n",
       "      <td>4</td>\n",
       "      <td>Smart Ones Classic Favorites Mini Rigatoni Wit...</td>\n",
       "      <td>38</td>\n",
       "      <td>1</td>\n",
       "    </tr>\n",
       "    <tr>\n",
       "      <th>4</th>\n",
       "      <td>5</td>\n",
       "      <td>Green Chile Anytime Sauce</td>\n",
       "      <td>5</td>\n",
       "      <td>13</td>\n",
       "    </tr>\n",
       "    <tr>\n",
       "      <th>5</th>\n",
       "      <td>6</td>\n",
       "      <td>Dry Nose Oil</td>\n",
       "      <td>11</td>\n",
       "      <td>11</td>\n",
       "    </tr>\n",
       "    <tr>\n",
       "      <th>6</th>\n",
       "      <td>7</td>\n",
       "      <td>Pure Coconut Water With Orange</td>\n",
       "      <td>98</td>\n",
       "      <td>7</td>\n",
       "    </tr>\n",
       "    <tr>\n",
       "      <th>7</th>\n",
       "      <td>8</td>\n",
       "      <td>Cut Russet Potatoes Steam N' Mash</td>\n",
       "      <td>116</td>\n",
       "      <td>1</td>\n",
       "    </tr>\n",
       "    <tr>\n",
       "      <th>8</th>\n",
       "      <td>9</td>\n",
       "      <td>Light Strawberry Blueberry Yogurt</td>\n",
       "      <td>120</td>\n",
       "      <td>16</td>\n",
       "    </tr>\n",
       "    <tr>\n",
       "      <th>9</th>\n",
       "      <td>10</td>\n",
       "      <td>Sparkling Orange Juice &amp; Prickly Pear Beverage</td>\n",
       "      <td>115</td>\n",
       "      <td>7</td>\n",
       "    </tr>\n",
       "  </tbody>\n",
       "</table>\n",
       "</div>"
      ],
      "text/plain": [
       "   product_id                                       product_name  aisle_id  \\\n",
       "0           1                         Chocolate Sandwich Cookies        61   \n",
       "1           2                                   All-Seasons Salt       104   \n",
       "2           3               Robust Golden Unsweetened Oolong Tea        94   \n",
       "3           4  Smart Ones Classic Favorites Mini Rigatoni Wit...        38   \n",
       "4           5                          Green Chile Anytime Sauce         5   \n",
       "5           6                                       Dry Nose Oil        11   \n",
       "6           7                     Pure Coconut Water With Orange        98   \n",
       "7           8                  Cut Russet Potatoes Steam N' Mash       116   \n",
       "8           9                  Light Strawberry Blueberry Yogurt       120   \n",
       "9          10     Sparkling Orange Juice & Prickly Pear Beverage       115   \n",
       "\n",
       "   department_id  \n",
       "0             19  \n",
       "1             13  \n",
       "2              7  \n",
       "3              1  \n",
       "4             13  \n",
       "5             11  \n",
       "6              7  \n",
       "7              1  \n",
       "8             16  \n",
       "9              7  "
      ]
     },
     "execution_count": 22,
     "metadata": {},
     "output_type": "execute_result"
    }
   ],
   "source": [
    "sample_file = pd.read_csv(path + \"products.csv\",nrows=10)\n",
    "sample_file"
   ]
  },
  {
   "cell_type": "code",
   "execution_count": 23,
   "metadata": {
    "collapsed": true
   },
   "outputs": [],
   "source": [
    "data_columns =  [ \n",
    "                   ['product_id',IntegerType(), True],\n",
    "                   ['product_name',StringType(), True],\n",
    "                   ['aisle_id',IntegerType(), True],\n",
    "                   ['department_id',IntegerType(), True]\n",
    "                 ]\n",
    "fields = [StructField(field_name, field_type, null_type) for field_name, field_type, null_type in data_columns]\n",
    "schema = StructType(fields)"
   ]
  },
  {
   "cell_type": "code",
   "execution_count": 24,
   "metadata": {},
   "outputs": [
    {
     "name": "stdout",
     "output_type": "stream",
     "text": [
      "took me 0.089 seconds to do this..\n"
     ]
    }
   ],
   "source": [
    "tic()\n",
    "products = sc.textFile(path + \"products.csv\") \n",
    "header = products.first() #extract header\n",
    "products = products.filter(lambda x: x[0] != header[0])   #filter out header\n",
    "#convert data type\n",
    "products_csv = products.map(lambda x: x.split(',')).map(lambda x: [ToInt(x[0]), x[1], ToInt(x[2]), ToInt(x[3])])\n",
    "products = sqlContext.createDataFrame(products_csv, schema)\n",
    "toc()"
   ]
  },
  {
   "cell_type": "code",
   "execution_count": 25,
   "metadata": {},
   "outputs": [
    {
     "data": {
      "text/plain": [
       "[[1, u'Chocolate Sandwich Cookies', 61, 19], [2, u'All-Seasons Salt', 104, 13]]"
      ]
     },
     "execution_count": 25,
     "metadata": {},
     "output_type": "execute_result"
    }
   ],
   "source": [
    "products_csv.take(2)"
   ]
  },
  {
   "cell_type": "code",
   "execution_count": 26,
   "metadata": {},
   "outputs": [
    {
     "data": {
      "text/plain": [
       "[Row(product_id=1, product_name=u'Chocolate Sandwich Cookies', aisle_id=61, department_id=19),\n",
       " Row(product_id=2, product_name=u'All-Seasons Salt', aisle_id=104, department_id=13)]"
      ]
     },
     "execution_count": 26,
     "metadata": {},
     "output_type": "execute_result"
    }
   ],
   "source": [
    "products.take(2)"
   ]
  },
  {
   "cell_type": "markdown",
   "metadata": {},
   "source": [
    " Read Transaction Level Historical Information"
   ]
  },
  {
   "cell_type": "code",
   "execution_count": 27,
   "metadata": {},
   "outputs": [
    {
     "data": {
      "text/html": [
       "<div>\n",
       "<table border=\"1\" class=\"dataframe\">\n",
       "  <thead>\n",
       "    <tr style=\"text-align: right;\">\n",
       "      <th></th>\n",
       "      <th>order_id</th>\n",
       "      <th>product_id</th>\n",
       "      <th>add_to_cart_order</th>\n",
       "      <th>reordered</th>\n",
       "    </tr>\n",
       "  </thead>\n",
       "  <tbody>\n",
       "    <tr>\n",
       "      <th>0</th>\n",
       "      <td>2</td>\n",
       "      <td>33120</td>\n",
       "      <td>1</td>\n",
       "      <td>1</td>\n",
       "    </tr>\n",
       "    <tr>\n",
       "      <th>1</th>\n",
       "      <td>2</td>\n",
       "      <td>28985</td>\n",
       "      <td>2</td>\n",
       "      <td>1</td>\n",
       "    </tr>\n",
       "    <tr>\n",
       "      <th>2</th>\n",
       "      <td>2</td>\n",
       "      <td>9327</td>\n",
       "      <td>3</td>\n",
       "      <td>0</td>\n",
       "    </tr>\n",
       "    <tr>\n",
       "      <th>3</th>\n",
       "      <td>2</td>\n",
       "      <td>45918</td>\n",
       "      <td>4</td>\n",
       "      <td>1</td>\n",
       "    </tr>\n",
       "    <tr>\n",
       "      <th>4</th>\n",
       "      <td>2</td>\n",
       "      <td>30035</td>\n",
       "      <td>5</td>\n",
       "      <td>0</td>\n",
       "    </tr>\n",
       "    <tr>\n",
       "      <th>5</th>\n",
       "      <td>2</td>\n",
       "      <td>17794</td>\n",
       "      <td>6</td>\n",
       "      <td>1</td>\n",
       "    </tr>\n",
       "    <tr>\n",
       "      <th>6</th>\n",
       "      <td>2</td>\n",
       "      <td>40141</td>\n",
       "      <td>7</td>\n",
       "      <td>1</td>\n",
       "    </tr>\n",
       "    <tr>\n",
       "      <th>7</th>\n",
       "      <td>2</td>\n",
       "      <td>1819</td>\n",
       "      <td>8</td>\n",
       "      <td>1</td>\n",
       "    </tr>\n",
       "    <tr>\n",
       "      <th>8</th>\n",
       "      <td>2</td>\n",
       "      <td>43668</td>\n",
       "      <td>9</td>\n",
       "      <td>0</td>\n",
       "    </tr>\n",
       "    <tr>\n",
       "      <th>9</th>\n",
       "      <td>3</td>\n",
       "      <td>33754</td>\n",
       "      <td>1</td>\n",
       "      <td>1</td>\n",
       "    </tr>\n",
       "  </tbody>\n",
       "</table>\n",
       "</div>"
      ],
      "text/plain": [
       "   order_id  product_id  add_to_cart_order  reordered\n",
       "0         2       33120                  1          1\n",
       "1         2       28985                  2          1\n",
       "2         2        9327                  3          0\n",
       "3         2       45918                  4          1\n",
       "4         2       30035                  5          0\n",
       "5         2       17794                  6          1\n",
       "6         2       40141                  7          1\n",
       "7         2        1819                  8          1\n",
       "8         2       43668                  9          0\n",
       "9         3       33754                  1          1"
      ]
     },
     "execution_count": 27,
     "metadata": {},
     "output_type": "execute_result"
    }
   ],
   "source": [
    "sample_file = pd.read_csv(path + \"order_products__prior.csv\",nrows=10)\n",
    "sample_file"
   ]
  },
  {
   "cell_type": "code",
   "execution_count": 28,
   "metadata": {
    "collapsed": true
   },
   "outputs": [],
   "source": [
    "data_columns =  [ \n",
    "                   ['order_id',IntegerType(), True],\n",
    "                   ['product_id',IntegerType(), True],\n",
    "                   ['add_to_cart_order',IntegerType(), True],\n",
    "                   ['reordered',IntegerType(), True]\n",
    "                 ]\n",
    "fields = [StructField(field_name, field_type, null_type) for field_name, field_type, null_type in data_columns]\n",
    "schema = StructType(fields)"
   ]
  },
  {
   "cell_type": "code",
   "execution_count": 29,
   "metadata": {},
   "outputs": [
    {
     "name": "stdout",
     "output_type": "stream",
     "text": [
      "took me 0.083 seconds to do this..\n"
     ]
    }
   ],
   "source": [
    "tic()\n",
    "items_prior = sc.textFile(path + \"order_products__prior.csv\") \n",
    "header = items_prior.first() #extract header\n",
    "items_prior = items_prior.filter(lambda x: x[0] != header[0])   #filter out header\n",
    "#convert data type\n",
    "items_prior_csv = items_prior.map(lambda x: x.split(',')).map(lambda x: [ToInt(x[0]), ToInt(x[1]), ToInt(x[2]), ToInt(x[3])])\n",
    "items_prior = sqlContext.createDataFrame(items_prior_csv, schema)\n",
    "toc()"
   ]
  },
  {
   "cell_type": "code",
   "execution_count": 30,
   "metadata": {},
   "outputs": [
    {
     "data": {
      "text/plain": [
       "[[2, 33120, 1, 1], [2, 28985, 2, 1]]"
      ]
     },
     "execution_count": 30,
     "metadata": {},
     "output_type": "execute_result"
    }
   ],
   "source": [
    "items_prior_csv.take(2)"
   ]
  },
  {
   "cell_type": "code",
   "execution_count": 31,
   "metadata": {},
   "outputs": [
    {
     "data": {
      "text/plain": [
       "[Row(order_id=2, product_id=33120, add_to_cart_order=1, reordered=1),\n",
       " Row(order_id=2, product_id=28985, add_to_cart_order=2, reordered=1)]"
      ]
     },
     "execution_count": 31,
     "metadata": {},
     "output_type": "execute_result"
    }
   ],
   "source": [
    "items_prior.take(2)"
   ]
  },
  {
   "cell_type": "code",
   "execution_count": 32,
   "metadata": {},
   "outputs": [
    {
     "name": "stdout",
     "output_type": "stream",
     "text": [
      "took me 0.088 seconds to do this..\n"
     ]
    }
   ],
   "source": [
    "tic()\n",
    "items = sc.textFile(path + \"order_products__train.csv\") \n",
    "header = items.first() #extract header\n",
    "items = items.filter(lambda x: x[0] != header[0])   #filter out header\n",
    "#convert data type\n",
    "items_csv = items.map(lambda x: x.split(',')).map(lambda x: [ToInt(x[0]), ToInt(x[1]), ToInt(x[2]), ToInt(x[3])])\n",
    "items = sqlContext.createDataFrame(items_csv, schema)\n",
    "toc()"
   ]
  },
  {
   "cell_type": "code",
   "execution_count": 33,
   "metadata": {},
   "outputs": [
    {
     "data": {
      "text/plain": [
       "[[1, 49302, 1, 1], [1, 11109, 2, 1]]"
      ]
     },
     "execution_count": 33,
     "metadata": {},
     "output_type": "execute_result"
    }
   ],
   "source": [
    "items_csv.take(2)"
   ]
  },
  {
   "cell_type": "code",
   "execution_count": 34,
   "metadata": {},
   "outputs": [
    {
     "data": {
      "text/plain": [
       "[Row(order_id=1, product_id=49302, add_to_cart_order=1, reordered=1),\n",
       " Row(order_id=1, product_id=11109, add_to_cart_order=2, reordered=1)]"
      ]
     },
     "execution_count": 34,
     "metadata": {},
     "output_type": "execute_result"
    }
   ],
   "source": [
    "items.take(2)"
   ]
  },
  {
   "cell_type": "code",
   "execution_count": 35,
   "metadata": {
    "collapsed": true
   },
   "outputs": [],
   "source": [
    "items_all = items_prior.union(items)"
   ]
  },
  {
   "cell_type": "code",
   "execution_count": 36,
   "metadata": {
    "collapsed": true
   },
   "outputs": [],
   "source": [
    "if debug:\n",
    "    orders.show()"
   ]
  },
  {
   "cell_type": "code",
   "execution_count": 37,
   "metadata": {
    "scrolled": true
   },
   "outputs": [
    {
     "data": {
      "text/html": [
       "<div>\n",
       "<table border=\"1\" class=\"dataframe\">\n",
       "  <thead>\n",
       "    <tr style=\"text-align: right;\">\n",
       "      <th></th>\n",
       "      <th>aisle_id</th>\n",
       "      <th>aisle</th>\n",
       "    </tr>\n",
       "  </thead>\n",
       "  <tbody>\n",
       "    <tr>\n",
       "      <th>0</th>\n",
       "      <td>1</td>\n",
       "      <td>prepared soups salads</td>\n",
       "    </tr>\n",
       "    <tr>\n",
       "      <th>1</th>\n",
       "      <td>2</td>\n",
       "      <td>specialty cheeses</td>\n",
       "    </tr>\n",
       "    <tr>\n",
       "      <th>2</th>\n",
       "      <td>3</td>\n",
       "      <td>energy granola bars</td>\n",
       "    </tr>\n",
       "    <tr>\n",
       "      <th>3</th>\n",
       "      <td>4</td>\n",
       "      <td>instant foods</td>\n",
       "    </tr>\n",
       "    <tr>\n",
       "      <th>4</th>\n",
       "      <td>5</td>\n",
       "      <td>marinades meat preparation</td>\n",
       "    </tr>\n",
       "    <tr>\n",
       "      <th>5</th>\n",
       "      <td>6</td>\n",
       "      <td>other</td>\n",
       "    </tr>\n",
       "    <tr>\n",
       "      <th>6</th>\n",
       "      <td>7</td>\n",
       "      <td>packaged meat</td>\n",
       "    </tr>\n",
       "    <tr>\n",
       "      <th>7</th>\n",
       "      <td>8</td>\n",
       "      <td>bakery desserts</td>\n",
       "    </tr>\n",
       "    <tr>\n",
       "      <th>8</th>\n",
       "      <td>9</td>\n",
       "      <td>pasta sauce</td>\n",
       "    </tr>\n",
       "    <tr>\n",
       "      <th>9</th>\n",
       "      <td>10</td>\n",
       "      <td>kitchen supplies</td>\n",
       "    </tr>\n",
       "  </tbody>\n",
       "</table>\n",
       "</div>"
      ],
      "text/plain": [
       "   aisle_id                       aisle\n",
       "0         1       prepared soups salads\n",
       "1         2           specialty cheeses\n",
       "2         3         energy granola bars\n",
       "3         4               instant foods\n",
       "4         5  marinades meat preparation\n",
       "5         6                       other\n",
       "6         7               packaged meat\n",
       "7         8             bakery desserts\n",
       "8         9                 pasta sauce\n",
       "9        10            kitchen supplies"
      ]
     },
     "execution_count": 37,
     "metadata": {},
     "output_type": "execute_result"
    }
   ],
   "source": [
    "sample_file = pd.read_csv(path + \"aisles.csv\",nrows=10)\n",
    "sample_file"
   ]
  },
  {
   "cell_type": "code",
   "execution_count": 38,
   "metadata": {
    "collapsed": true
   },
   "outputs": [],
   "source": [
    "data_columns =  [ \n",
    "                   ['aisle_id',IntegerType(), True],\n",
    "                   ['aisle',StringType(), True],\n",
    "                 ]\n",
    "fields = [StructField(field_name, field_type, null_type) for field_name, field_type, null_type in data_columns]\n",
    "schema = StructType(fields)"
   ]
  },
  {
   "cell_type": "code",
   "execution_count": 39,
   "metadata": {},
   "outputs": [
    {
     "name": "stdout",
     "output_type": "stream",
     "text": [
      "took me 0.063 seconds to do this..\n"
     ]
    }
   ],
   "source": [
    "tic()\n",
    "aisles = sc.textFile(path + \"aisles.csv\") \n",
    "header = aisles.first() #extract header\n",
    "aisles = aisles.filter(lambda x: x[0] != header[0])   #filter out header\n",
    "#convert data type\n",
    "aisles_csv = aisles.map(lambda x: x.split(',')).map(lambda x: [ToInt(x[0]), x[1]])\n",
    "aisles = sqlContext.createDataFrame(aisles_csv, schema)\n",
    "toc()"
   ]
  },
  {
   "cell_type": "code",
   "execution_count": 40,
   "metadata": {},
   "outputs": [
    {
     "data": {
      "text/plain": [
       "[[1, u'prepared soups salads'], [2, u'specialty cheeses']]"
      ]
     },
     "execution_count": 40,
     "metadata": {},
     "output_type": "execute_result"
    }
   ],
   "source": [
    "aisles_csv.take(2)"
   ]
  },
  {
   "cell_type": "code",
   "execution_count": 41,
   "metadata": {},
   "outputs": [
    {
     "data": {
      "text/plain": [
       "[Row(aisle_id=1, aisle=u'prepared soups salads'),\n",
       " Row(aisle_id=2, aisle=u'specialty cheeses')]"
      ]
     },
     "execution_count": 41,
     "metadata": {},
     "output_type": "execute_result"
    }
   ],
   "source": [
    "aisles.take(2)"
   ]
  },
  {
   "cell_type": "code",
   "execution_count": 42,
   "metadata": {
    "collapsed": true
   },
   "outputs": [],
   "source": [
    "items_all = items_all.join(products, on = 'product_id', how = 'left')\n",
    "items_all = items_all.fillna(MISSING_AISLE, subset=['aisle_id'])"
   ]
  },
  {
   "cell_type": "code",
   "execution_count": 43,
   "metadata": {
    "collapsed": true
   },
   "outputs": [],
   "source": [
    "items_all = items_all.join(aisles, on='aisle_id' , how='left')\\\n",
    "    .where(\"aisle IS NOT NULL\")"
   ]
  },
  {
   "cell_type": "code",
   "execution_count": 44,
   "metadata": {},
   "outputs": [
    {
     "name": "stdout",
     "output_type": "stream",
     "text": [
      "took me 0.0 seconds to do this..\n"
     ]
    }
   ],
   "source": [
    "tic()\n",
    "if debug:\n",
    "    items_all.show()\n",
    "toc()"
   ]
  },
  {
   "cell_type": "code",
   "execution_count": 45,
   "metadata": {},
   "outputs": [],
   "source": [
    "matrix = orders.select(['user_id','order_number','order_id','eval_set'])\\\n",
    "        .where(\"eval_set=='train' or eval_set=='test' or eval_set=='prior'\").join(items_all.select(['order_id','aisle_id','department_id']),on = 'order_id', how = 'left')\\\n",
    "        .select(['user_id','aisle_id','department_id']).withColumnRenamed(\"aisle_id\", \"master_aisle_id\").withColumnRenamed(\"department_id\",\"master_department_id\").distinct()\\\n",
    "        .where(\"master_aisle_id !=0 and master_aisle_id IS NOT NULL\")\\\n",
    "        .join(orders.select(['user_id','order_id', 'order_number']),on='user_id', how='left')\\\n",
    "        .join(items_all.select('order_id', 'add_to_cart_order' ,'reordered', 'aisle_id', 'department_id' , 'product_id')\\\n",
    "        ,on='order_id', how='left').orderBy(['user_id','master_aisle_id','order_number','add_to_cart_order'])\\\n",
    "        .select(['user_id','master_aisle_id','master_department_id', 'order_number' , 'add_to_cart_order' , 'reordered', 'aisle_id',\\\n",
    "                 'product_id'])"
   ]
  },
  {
   "cell_type": "code",
   "execution_count": 46,
   "metadata": {},
   "outputs": [
    {
     "name": "stdout",
     "output_type": "stream",
     "text": [
      "took me 0.0 seconds to do this..\n"
     ]
    }
   ],
   "source": [
    "tic()\n",
    "if debug:\n",
    "    matrix.show()\n",
    "toc()"
   ]
  },
  {
   "cell_type": "code",
   "execution_count": 47,
   "metadata": {
    "collapsed": true
   },
   "outputs": [],
   "source": [
    "# define udf\n",
    "def sorterAndIsInOrderFinder(l):\n",
    "    res = sorted(l, key=operator.itemgetter(0))\n",
    "    dep = [item[2] for item in res]\n",
    "    return int((dep[0] in [item[1] for item in res]))\n",
    "\n",
    "sorterAndIsInOrderFinder_udf = F.udf(sorterAndIsInOrderFinder)"
   ]
  },
  {
   "cell_type": "code",
   "execution_count": 48,
   "metadata": {
    "collapsed": true
   },
   "outputs": [],
   "source": [
    "# define udf\n",
    "def sorterAndNumProductsFinder(l):\n",
    "    res = sorted(l, key=operator.itemgetter(0))\n",
    "    dep = [item[2] for item in res]\n",
    "    return [item[1] for item in res].count(dep[0])\n",
    "\n",
    "sorterAndNumProductsFinder_udf = F.udf(sorterAndNumProductsFinder)"
   ]
  },
  {
   "cell_type": "code",
   "execution_count": 49,
   "metadata": {
    "collapsed": true
   },
   "outputs": [],
   "source": [
    "# define udf\n",
    "def sorterAndOrderSizeFinder(l):\n",
    "    res = sorted(l, key=operator.itemgetter(0))\n",
    "    return len([item[1] for item in res])\n",
    "\n",
    "sorterAndOrderSizeFinder_udf = F.udf(sorterAndOrderSizeFinder)"
   ]
  },
  {
   "cell_type": "code",
   "execution_count": 50,
   "metadata": {
    "collapsed": true
   },
   "outputs": [],
   "source": [
    "# define udf\n",
    "def sorterAndIndexInOrderFinder(l):\n",
    "    res = sorted(l, key=operator.itemgetter(0))\n",
    "    IndexInOrders = [item[0] for item in res]\n",
    "    L = [float(n) for n in IndexInOrders if n]\n",
    "    avg = round(sum(L)/len(L),1) if L else 999.0\n",
    "    return avg\n",
    "\n",
    "sorterAndIndexInOrderFinder_udf = F.udf(sorterAndIndexInOrderFinder)"
   ]
  },
  {
   "cell_type": "code",
   "execution_count": 51,
   "metadata": {},
   "outputs": [],
   "source": [
    "# define udf\n",
    "def sorterAndProductFinder(l):\n",
    "    res = sorted(l, key=operator.itemgetter(0))\n",
    "    return [item[3] for item in res]\n",
    "\n",
    "sorterAndProductFinder_udf = F.udf(sorterAndProductFinder)"
   ]
  },
  {
   "cell_type": "code",
   "execution_count": 52,
   "metadata": {},
   "outputs": [
    {
     "name": "stdout",
     "output_type": "stream",
     "text": [
      "took me 3294.897 seconds to do this..\n"
     ]
    }
   ],
   "source": [
    "tic()\n",
    "user_aisle_history = matrix.groupby(['user_id','master_department_id','master_aisle_id','order_number'])\\\n",
    "        .agg(F.collect_list(F.struct(\"add_to_cart_order\",\"aisle_id\",\"master_aisle_id\",\"product_id\")).alias('list_col'))\\\n",
    "        .select('user_id', 'master_department_id', 'master_aisle_id','order_number', sorterAndIsInOrderFinder_udf(\"list_col\").alias(\"isInOrder\"),\\\n",
    "               sorterAndNumProductsFinder_udf(\"list_col\").alias(\"NumProductsFromDep\"),\n",
    "               sorterAndOrderSizeFinder_udf(\"list_col\").alias(\"OrderSize\"),\\\n",
    "               sorterAndIndexInOrderFinder_udf(\"list_col\").alias(\"IndexInOrder\"),\\\n",
    "               sorterAndProductFinder_udf(\"list_col\").alias(\"ProductIDs\"))\\\n",
    "        .groupby(['user_id','master_aisle_id','master_department_id'])\\\n",
    "        .agg(F.collect_list(F.struct(\"order_number\",\"isInOrder\")).alias('list_col2'),\\\n",
    "             F.collect_list(F.struct(\"order_number\",\"NumProductsFromDep\")).alias('list_col3'),\\\n",
    "            F.collect_list(F.struct(\"order_number\",\"OrderSize\")).alias('list_col4'),\\\n",
    "            F.collect_list(F.struct(\"order_number\",\"IndexInOrder\")).alias('list_col5'),\\\n",
    "            F.collect_list(F.struct(\"order_number\",\"ProductIDs\")).alias('list_col6'))\\\n",
    "        .select('user_id', 'master_aisle_id','master_department_id' , sort_udf(\"list_col2\").alias(\"IsInOrder_history\")\\\n",
    "               ,sort_udf(\"list_col3\").alias(\"NumProductsFromDep_history\"),\\\n",
    "               sort_udf(\"list_col4\").alias(\"OrderSize_history\"),sort_udf(\"list_col5\").alias(\"IndexInOrder_history\"),\\\n",
    "               sort_udf(\"list_col6\").alias(\"ProductIDs_history\"))        \n",
    "if debug:\n",
    "    user_aisle_history.show(n=5,truncate=False)\n",
    "else:\n",
    "    user_order_aisle_history = user_aisle_history.join(user_order_history, on='user_id', how='left').collect()\n",
    "toc() "
   ]
  },
  {
   "cell_type": "code",
   "execution_count": 53,
   "metadata": {},
   "outputs": [
    {
     "name": "stdout",
     "output_type": "stream",
     "text": [
      "root\n",
      " |-- user_id: integer (nullable = true)\n",
      " |-- master_aisle_id: integer (nullable = true)\n",
      " |-- master_department_id: integer (nullable = true)\n",
      " |-- IsInOrder_history: string (nullable = true)\n",
      " |-- NumProductsFromDep_history: string (nullable = true)\n",
      " |-- OrderSize_history: string (nullable = true)\n",
      " |-- IndexInOrder_history: string (nullable = true)\n",
      " |-- ProductIDs_history: string (nullable = true)\n",
      "\n"
     ]
    }
   ],
   "source": [
    "user_aisle_history.printSchema()"
   ]
  },
  {
   "cell_type": "code",
   "execution_count": 54,
   "metadata": {},
   "outputs": [
    {
     "name": "stdout",
     "output_type": "stream",
     "text": [
      "root\n",
      " |-- user_id: integer (nullable = true)\n",
      " |-- order_number_history: string (nullable = true)\n",
      " |-- order_hour_of_day_history: string (nullable = true)\n",
      " |-- order_dow_history: string (nullable = true)\n",
      " |-- days_since_prior_order_history: string (nullable = true)\n",
      "\n"
     ]
    }
   ],
   "source": [
    "user_order_history.printSchema()"
   ]
  },
  {
   "cell_type": "code",
   "execution_count": 55,
   "metadata": {
    "collapsed": true
   },
   "outputs": [],
   "source": [
    "user_aisle_df_pd = pd.DataFrame(user_order_aisle_history,columns = ['user_id', 'master_aisle_id','master_department_id','IsInOrder_history'\\\n",
    "                        ,'NumProductsFromDep_history', 'OrderSize_history','IndexInOrder_history','ProductIDs_history','order_number_history'\\\n",
    "                        ,'order_hour_of_day_history','order_dow_history','days_since_prior_order_history'])"
   ]
  },
  {
   "cell_type": "code",
   "execution_count": 56,
   "metadata": {
    "collapsed": true
   },
   "outputs": [],
   "source": [
    "sc.stop()"
   ]
  },
  {
   "cell_type": "code",
   "execution_count": 57,
   "metadata": {
    "collapsed": true
   },
   "outputs": [],
   "source": [
    "debug = True\n",
    "if debug:\n",
    "    user_aisle_df_pd.to_csv(path_out+'user_aisle_df_pd.csv',index=False)"
   ]
  },
  {
   "cell_type": "code",
   "execution_count": 58,
   "metadata": {},
   "outputs": [],
   "source": [
    "path_out=\"\"\n",
    "user_aisle_df_pd = pd.read_csv(path_out+'user_aisle_df_pd.csv')"
   ]
  },
  {
   "cell_type": "code",
   "execution_count": 59,
   "metadata": {
    "scrolled": true
   },
   "outputs": [
    {
     "data": {
      "text/html": [
       "<div>\n",
       "<table border=\"1\" class=\"dataframe\">\n",
       "  <thead>\n",
       "    <tr style=\"text-align: right;\">\n",
       "      <th></th>\n",
       "      <th>user_id</th>\n",
       "      <th>master_aisle_id</th>\n",
       "      <th>master_department_id</th>\n",
       "      <th>IsInOrder_history</th>\n",
       "      <th>NumProductsFromDep_history</th>\n",
       "      <th>OrderSize_history</th>\n",
       "      <th>IndexInOrder_history</th>\n",
       "      <th>ProductIDs_history</th>\n",
       "      <th>order_number_history</th>\n",
       "      <th>order_hour_of_day_history</th>\n",
       "      <th>order_dow_history</th>\n",
       "      <th>days_since_prior_order_history</th>\n",
       "    </tr>\n",
       "  </thead>\n",
       "  <tbody>\n",
       "    <tr>\n",
       "      <th>0</th>\n",
       "      <td>148</td>\n",
       "      <td>9</td>\n",
       "      <td>9.0</td>\n",
       "      <td>[0, 0, 0, 0, 0, 0, 1, 0]</td>\n",
       "      <td>[0, 0, 0, 0, 0, 0, 1, 0]</td>\n",
       "      <td>[39, 14, 11, 2, 14, 15, 7, 7]</td>\n",
       "      <td>[20.0, 7.5, 6.0, 1.5, 7.7, 8.0, 4.0, 4.0]</td>\n",
       "      <td>[[10983, 21806, 6891, 44557, 18629, 11212, 244...</td>\n",
       "      <td>[1, 2, 3, 4, 5, 6, 7, 8]</td>\n",
       "      <td>[16, 7, 5, 13, 13, 12, 15, 23]</td>\n",
       "      <td>[5, 1, 4, 6, 2, 3, 6, 5]</td>\n",
       "      <td>[0.0, 3.0, 3.0, 2.0, 3.0, 1.0, 30.0, 27.0]</td>\n",
       "    </tr>\n",
       "    <tr>\n",
       "      <th>1</th>\n",
       "      <td>148</td>\n",
       "      <td>61</td>\n",
       "      <td>19.0</td>\n",
       "      <td>[0, 1, 0, 1, 0, 0, 0, 0]</td>\n",
       "      <td>[0, 1, 0, 1, 0, 0, 0, 0]</td>\n",
       "      <td>[39, 14, 11, 2, 14, 15, 7, 7]</td>\n",
       "      <td>[20.0, 7.5, 6.0, 1.5, 7.7, 8.0, 4.0, 4.0]</td>\n",
       "      <td>[[10983, 21806, 6891, 44557, 18629, 11212, 244...</td>\n",
       "      <td>[1, 2, 3, 4, 5, 6, 7, 8]</td>\n",
       "      <td>[16, 7, 5, 13, 13, 12, 15, 23]</td>\n",
       "      <td>[5, 1, 4, 6, 2, 3, 6, 5]</td>\n",
       "      <td>[0.0, 3.0, 3.0, 2.0, 3.0, 1.0, 30.0, 27.0]</td>\n",
       "    </tr>\n",
       "    <tr>\n",
       "      <th>2</th>\n",
       "      <td>148</td>\n",
       "      <td>24</td>\n",
       "      <td>4.0</td>\n",
       "      <td>[1, 0, 0, 0, 0, 0, 0, 1]</td>\n",
       "      <td>[1, 0, 0, 0, 0, 0, 0, 1]</td>\n",
       "      <td>[39, 14, 11, 2, 14, 15, 7, 7]</td>\n",
       "      <td>[20.0, 7.5, 6.0, 1.5, 7.7, 8.0, 4.0, 4.0]</td>\n",
       "      <td>[[10983, 21806, 6891, 44557, 18629, 11212, 244...</td>\n",
       "      <td>[1, 2, 3, 4, 5, 6, 7, 8]</td>\n",
       "      <td>[16, 7, 5, 13, 13, 12, 15, 23]</td>\n",
       "      <td>[5, 1, 4, 6, 2, 3, 6, 5]</td>\n",
       "      <td>[0.0, 3.0, 3.0, 2.0, 3.0, 1.0, 30.0, 27.0]</td>\n",
       "    </tr>\n",
       "    <tr>\n",
       "      <th>3</th>\n",
       "      <td>148</td>\n",
       "      <td>59</td>\n",
       "      <td>15.0</td>\n",
       "      <td>[0, 1, 0, 0, 0, 0, 0, 0]</td>\n",
       "      <td>[0, 2, 0, 0, 0, 0, 0, 0]</td>\n",
       "      <td>[39, 14, 11, 2, 14, 15, 7, 7]</td>\n",
       "      <td>[20.0, 7.5, 6.0, 1.5, 7.7, 8.0, 4.0, 4.0]</td>\n",
       "      <td>[[10983, 21806, 6891, 44557, 18629, 11212, 244...</td>\n",
       "      <td>[1, 2, 3, 4, 5, 6, 7, 8]</td>\n",
       "      <td>[16, 7, 5, 13, 13, 12, 15, 23]</td>\n",
       "      <td>[5, 1, 4, 6, 2, 3, 6, 5]</td>\n",
       "      <td>[0.0, 3.0, 3.0, 2.0, 3.0, 1.0, 30.0, 27.0]</td>\n",
       "    </tr>\n",
       "    <tr>\n",
       "      <th>4</th>\n",
       "      <td>148</td>\n",
       "      <td>84</td>\n",
       "      <td>16.0</td>\n",
       "      <td>[1, 0, 1, 0, 0, 0, 0, 0]</td>\n",
       "      <td>[3, 0, 1, 0, 0, 0, 0, 0]</td>\n",
       "      <td>[39, 14, 11, 2, 14, 15, 7, 7]</td>\n",
       "      <td>[20.0, 7.5, 6.0, 1.5, 7.7, 8.0, 4.0, 4.0]</td>\n",
       "      <td>[[10983, 21806, 6891, 44557, 18629, 11212, 244...</td>\n",
       "      <td>[1, 2, 3, 4, 5, 6, 7, 8]</td>\n",
       "      <td>[16, 7, 5, 13, 13, 12, 15, 23]</td>\n",
       "      <td>[5, 1, 4, 6, 2, 3, 6, 5]</td>\n",
       "      <td>[0.0, 3.0, 3.0, 2.0, 3.0, 1.0, 30.0, 27.0]</td>\n",
       "    </tr>\n",
       "  </tbody>\n",
       "</table>\n",
       "</div>"
      ],
      "text/plain": [
       "   user_id  master_aisle_id  master_department_id         IsInOrder_history  \\\n",
       "0      148                9                   9.0  [0, 0, 0, 0, 0, 0, 1, 0]   \n",
       "1      148               61                  19.0  [0, 1, 0, 1, 0, 0, 0, 0]   \n",
       "2      148               24                   4.0  [1, 0, 0, 0, 0, 0, 0, 1]   \n",
       "3      148               59                  15.0  [0, 1, 0, 0, 0, 0, 0, 0]   \n",
       "4      148               84                  16.0  [1, 0, 1, 0, 0, 0, 0, 0]   \n",
       "\n",
       "  NumProductsFromDep_history              OrderSize_history  \\\n",
       "0   [0, 0, 0, 0, 0, 0, 1, 0]  [39, 14, 11, 2, 14, 15, 7, 7]   \n",
       "1   [0, 1, 0, 1, 0, 0, 0, 0]  [39, 14, 11, 2, 14, 15, 7, 7]   \n",
       "2   [1, 0, 0, 0, 0, 0, 0, 1]  [39, 14, 11, 2, 14, 15, 7, 7]   \n",
       "3   [0, 2, 0, 0, 0, 0, 0, 0]  [39, 14, 11, 2, 14, 15, 7, 7]   \n",
       "4   [3, 0, 1, 0, 0, 0, 0, 0]  [39, 14, 11, 2, 14, 15, 7, 7]   \n",
       "\n",
       "                        IndexInOrder_history  \\\n",
       "0  [20.0, 7.5, 6.0, 1.5, 7.7, 8.0, 4.0, 4.0]   \n",
       "1  [20.0, 7.5, 6.0, 1.5, 7.7, 8.0, 4.0, 4.0]   \n",
       "2  [20.0, 7.5, 6.0, 1.5, 7.7, 8.0, 4.0, 4.0]   \n",
       "3  [20.0, 7.5, 6.0, 1.5, 7.7, 8.0, 4.0, 4.0]   \n",
       "4  [20.0, 7.5, 6.0, 1.5, 7.7, 8.0, 4.0, 4.0]   \n",
       "\n",
       "                                  ProductIDs_history  \\\n",
       "0  [[10983, 21806, 6891, 44557, 18629, 11212, 244...   \n",
       "1  [[10983, 21806, 6891, 44557, 18629, 11212, 244...   \n",
       "2  [[10983, 21806, 6891, 44557, 18629, 11212, 244...   \n",
       "3  [[10983, 21806, 6891, 44557, 18629, 11212, 244...   \n",
       "4  [[10983, 21806, 6891, 44557, 18629, 11212, 244...   \n",
       "\n",
       "       order_number_history       order_hour_of_day_history  \\\n",
       "0  [1, 2, 3, 4, 5, 6, 7, 8]  [16, 7, 5, 13, 13, 12, 15, 23]   \n",
       "1  [1, 2, 3, 4, 5, 6, 7, 8]  [16, 7, 5, 13, 13, 12, 15, 23]   \n",
       "2  [1, 2, 3, 4, 5, 6, 7, 8]  [16, 7, 5, 13, 13, 12, 15, 23]   \n",
       "3  [1, 2, 3, 4, 5, 6, 7, 8]  [16, 7, 5, 13, 13, 12, 15, 23]   \n",
       "4  [1, 2, 3, 4, 5, 6, 7, 8]  [16, 7, 5, 13, 13, 12, 15, 23]   \n",
       "\n",
       "          order_dow_history              days_since_prior_order_history  \n",
       "0  [5, 1, 4, 6, 2, 3, 6, 5]  [0.0, 3.0, 3.0, 2.0, 3.0, 1.0, 30.0, 27.0]  \n",
       "1  [5, 1, 4, 6, 2, 3, 6, 5]  [0.0, 3.0, 3.0, 2.0, 3.0, 1.0, 30.0, 27.0]  \n",
       "2  [5, 1, 4, 6, 2, 3, 6, 5]  [0.0, 3.0, 3.0, 2.0, 3.0, 1.0, 30.0, 27.0]  \n",
       "3  [5, 1, 4, 6, 2, 3, 6, 5]  [0.0, 3.0, 3.0, 2.0, 3.0, 1.0, 30.0, 27.0]  \n",
       "4  [5, 1, 4, 6, 2, 3, 6, 5]  [0.0, 3.0, 3.0, 2.0, 3.0, 1.0, 30.0, 27.0]  "
      ]
     },
     "execution_count": 59,
     "metadata": {},
     "output_type": "execute_result"
    }
   ],
   "source": [
    "user_aisle_df_pd.head(5)"
   ]
  },
  {
   "cell_type": "code",
   "execution_count": 60,
   "metadata": {
    "collapsed": true
   },
   "outputs": [],
   "source": [
    "# The function \"text_to_wordlist\" is from\n",
    "# https://www.kaggle.com/currie32/quora-question-pairs/the-importance-of-cleaning-text\n",
    "def text_to_wordlist(text, remove_stopwords=False, stem_words=False):\n",
    "    # Clean the text, with the option to remove stopwords and to stem words.\n",
    "    \n",
    "    # Convert words to lower case and split them\n",
    "    text = text.lower().split()\n",
    "\n",
    "    # Optionally, remove stop words\n",
    "    if remove_stopwords:\n",
    "        stops = set(stopwords.words(\"english\"))\n",
    "        text = [w for w in text if not w in stops]\n",
    "    \n",
    "    text = \" \".join(text)\n",
    "\n",
    "    # Clean the text\n",
    "    text = re.sub(r\"[^A-Za-z0-9^,!.\\/'+-=]\", \" \", text)\n",
    "    text = re.sub(r\"what's\", \"what is \", text)\n",
    "    text = re.sub(r\"\\'s\", \" \", text)\n",
    "    text = re.sub(r\"\\'ve\", \" have \", text)\n",
    "    text = re.sub(r\"can't\", \"cannot \", text)\n",
    "    text = re.sub(r\"n't\", \" not \", text)\n",
    "    text = re.sub(r\"i'm\", \"i am \", text)\n",
    "    text = re.sub(r\"\\'re\", \" are \", text)\n",
    "    text = re.sub(r\"\\'d\", \" would \", text)\n",
    "    text = re.sub(r\"\\'ll\", \" will \", text)\n",
    "    text = re.sub(r\",\", \" \", text)\n",
    "    text = re.sub(r\"\\.\", \" \", text)\n",
    "    text = re.sub(r\"!\", \" ! \", text)\n",
    "    text = re.sub(r\"\\/\", \" \", text)\n",
    "    text = re.sub(r\"\\^\", \" ^ \", text)\n",
    "    text = re.sub(r\"\\+\", \" + \", text)\n",
    "    text = re.sub(r\"\\-\", \" - \", text)\n",
    "    text = re.sub(r\"\\=\", \" = \", text)\n",
    "    text = re.sub(r\"'\", \" \", text)\n",
    "    text = re.sub(r\"(\\d+)(k)\", r\"\\g<1>000\", text)\n",
    "    text = re.sub(r\":\", \" : \", text)\n",
    "    text = re.sub(r\" e g \", \" eg \", text)\n",
    "    text = re.sub(r\" b g \", \" bg \", text)\n",
    "    text = re.sub(r\" u s \", \" american \", text)\n",
    "    text = re.sub(r\"\\0s\", \"0\", text)\n",
    "    text = re.sub(r\" 9 11 \", \"911\", text)\n",
    "    text = re.sub(r\"e - mail\", \"email\", text)\n",
    "    text = re.sub(r\"j k\", \"jk\", text)\n",
    "    text = re.sub(r\"\\s{2,}\", \" \", text)\n",
    "    \n",
    "    # Optionally, shorten words to their stems\n",
    "    if stem_words:\n",
    "        text = text.split()\n",
    "        stemmer = SnowballStemmer('english')\n",
    "        stemmed_words = [stemmer.stem(word) for word in text]\n",
    "        text = \" \".join(stemmed_words)\n",
    "    \n",
    "    # Return a list of words\n",
    "    return(text)"
   ]
  },
  {
   "cell_type": "code",
   "execution_count": 61,
   "metadata": {},
   "outputs": [
    {
     "data": {
      "text/html": [
       "<div>\n",
       "<table border=\"1\" class=\"dataframe\">\n",
       "  <thead>\n",
       "    <tr style=\"text-align: right;\">\n",
       "      <th></th>\n",
       "      <th>product_id</th>\n",
       "      <th>product_name</th>\n",
       "      <th>aisle_id</th>\n",
       "      <th>department_id</th>\n",
       "    </tr>\n",
       "  </thead>\n",
       "  <tbody>\n",
       "    <tr>\n",
       "      <th>0</th>\n",
       "      <td>1</td>\n",
       "      <td>Chocolate Sandwich Cookies</td>\n",
       "      <td>61</td>\n",
       "      <td>19</td>\n",
       "    </tr>\n",
       "    <tr>\n",
       "      <th>1</th>\n",
       "      <td>2</td>\n",
       "      <td>All-Seasons Salt</td>\n",
       "      <td>104</td>\n",
       "      <td>13</td>\n",
       "    </tr>\n",
       "    <tr>\n",
       "      <th>2</th>\n",
       "      <td>3</td>\n",
       "      <td>Robust Golden Unsweetened Oolong Tea</td>\n",
       "      <td>94</td>\n",
       "      <td>7</td>\n",
       "    </tr>\n",
       "    <tr>\n",
       "      <th>3</th>\n",
       "      <td>4</td>\n",
       "      <td>Smart Ones Classic Favorites Mini Rigatoni Wit...</td>\n",
       "      <td>38</td>\n",
       "      <td>1</td>\n",
       "    </tr>\n",
       "    <tr>\n",
       "      <th>4</th>\n",
       "      <td>5</td>\n",
       "      <td>Green Chile Anytime Sauce</td>\n",
       "      <td>5</td>\n",
       "      <td>13</td>\n",
       "    </tr>\n",
       "    <tr>\n",
       "      <th>5</th>\n",
       "      <td>6</td>\n",
       "      <td>Dry Nose Oil</td>\n",
       "      <td>11</td>\n",
       "      <td>11</td>\n",
       "    </tr>\n",
       "    <tr>\n",
       "      <th>6</th>\n",
       "      <td>7</td>\n",
       "      <td>Pure Coconut Water With Orange</td>\n",
       "      <td>98</td>\n",
       "      <td>7</td>\n",
       "    </tr>\n",
       "    <tr>\n",
       "      <th>7</th>\n",
       "      <td>8</td>\n",
       "      <td>Cut Russet Potatoes Steam N' Mash</td>\n",
       "      <td>116</td>\n",
       "      <td>1</td>\n",
       "    </tr>\n",
       "    <tr>\n",
       "      <th>8</th>\n",
       "      <td>9</td>\n",
       "      <td>Light Strawberry Blueberry Yogurt</td>\n",
       "      <td>120</td>\n",
       "      <td>16</td>\n",
       "    </tr>\n",
       "    <tr>\n",
       "      <th>9</th>\n",
       "      <td>10</td>\n",
       "      <td>Sparkling Orange Juice &amp; Prickly Pear Beverage</td>\n",
       "      <td>115</td>\n",
       "      <td>7</td>\n",
       "    </tr>\n",
       "    <tr>\n",
       "      <th>10</th>\n",
       "      <td>11</td>\n",
       "      <td>Peach Mango Juice</td>\n",
       "      <td>31</td>\n",
       "      <td>7</td>\n",
       "    </tr>\n",
       "    <tr>\n",
       "      <th>11</th>\n",
       "      <td>12</td>\n",
       "      <td>Chocolate Fudge Layer Cake</td>\n",
       "      <td>119</td>\n",
       "      <td>1</td>\n",
       "    </tr>\n",
       "    <tr>\n",
       "      <th>12</th>\n",
       "      <td>13</td>\n",
       "      <td>Saline Nasal Mist</td>\n",
       "      <td>11</td>\n",
       "      <td>11</td>\n",
       "    </tr>\n",
       "    <tr>\n",
       "      <th>13</th>\n",
       "      <td>14</td>\n",
       "      <td>Fresh Scent Dishwasher Cleaner</td>\n",
       "      <td>74</td>\n",
       "      <td>17</td>\n",
       "    </tr>\n",
       "    <tr>\n",
       "      <th>14</th>\n",
       "      <td>15</td>\n",
       "      <td>Overnight Diapers Size 6</td>\n",
       "      <td>56</td>\n",
       "      <td>18</td>\n",
       "    </tr>\n",
       "    <tr>\n",
       "      <th>15</th>\n",
       "      <td>16</td>\n",
       "      <td>Mint Chocolate Flavored Syrup</td>\n",
       "      <td>103</td>\n",
       "      <td>19</td>\n",
       "    </tr>\n",
       "    <tr>\n",
       "      <th>16</th>\n",
       "      <td>17</td>\n",
       "      <td>Rendered Duck Fat</td>\n",
       "      <td>35</td>\n",
       "      <td>12</td>\n",
       "    </tr>\n",
       "    <tr>\n",
       "      <th>17</th>\n",
       "      <td>18</td>\n",
       "      <td>Pizza for One Suprema  Frozen Pizza</td>\n",
       "      <td>79</td>\n",
       "      <td>1</td>\n",
       "    </tr>\n",
       "    <tr>\n",
       "      <th>18</th>\n",
       "      <td>19</td>\n",
       "      <td>Gluten Free Quinoa Three Cheese &amp; Mushroom Blend</td>\n",
       "      <td>63</td>\n",
       "      <td>9</td>\n",
       "    </tr>\n",
       "    <tr>\n",
       "      <th>19</th>\n",
       "      <td>20</td>\n",
       "      <td>Pomegranate Cranberry &amp; Aloe Vera Enrich Drink</td>\n",
       "      <td>98</td>\n",
       "      <td>7</td>\n",
       "    </tr>\n",
       "    <tr>\n",
       "      <th>20</th>\n",
       "      <td>21</td>\n",
       "      <td>Small &amp; Medium Dental Dog Treats</td>\n",
       "      <td>40</td>\n",
       "      <td>8</td>\n",
       "    </tr>\n",
       "    <tr>\n",
       "      <th>21</th>\n",
       "      <td>22</td>\n",
       "      <td>Fresh Breath Oral Rinse Mild Mint</td>\n",
       "      <td>20</td>\n",
       "      <td>11</td>\n",
       "    </tr>\n",
       "    <tr>\n",
       "      <th>22</th>\n",
       "      <td>23</td>\n",
       "      <td>Organic Turkey Burgers</td>\n",
       "      <td>49</td>\n",
       "      <td>12</td>\n",
       "    </tr>\n",
       "    <tr>\n",
       "      <th>23</th>\n",
       "      <td>24</td>\n",
       "      <td>Tri-Vi-Sol® Vitamins A-C-and D Supplement Drop...</td>\n",
       "      <td>47</td>\n",
       "      <td>11</td>\n",
       "    </tr>\n",
       "    <tr>\n",
       "      <th>24</th>\n",
       "      <td>25</td>\n",
       "      <td>Salted Caramel Lean Protein &amp; Fiber Bar</td>\n",
       "      <td>3</td>\n",
       "      <td>19</td>\n",
       "    </tr>\n",
       "    <tr>\n",
       "      <th>25</th>\n",
       "      <td>26</td>\n",
       "      <td>Fancy Feast Trout Feast Flaked Wet Cat Food</td>\n",
       "      <td>41</td>\n",
       "      <td>8</td>\n",
       "    </tr>\n",
       "    <tr>\n",
       "      <th>26</th>\n",
       "      <td>27</td>\n",
       "      <td>Complete Spring Water Foaming Antibacterial Ha...</td>\n",
       "      <td>127</td>\n",
       "      <td>11</td>\n",
       "    </tr>\n",
       "    <tr>\n",
       "      <th>27</th>\n",
       "      <td>28</td>\n",
       "      <td>Wheat Chex Cereal</td>\n",
       "      <td>121</td>\n",
       "      <td>14</td>\n",
       "    </tr>\n",
       "    <tr>\n",
       "      <th>28</th>\n",
       "      <td>29</td>\n",
       "      <td>Fresh Cut Golden Sweet No Salt Added Whole Ker...</td>\n",
       "      <td>81</td>\n",
       "      <td>15</td>\n",
       "    </tr>\n",
       "    <tr>\n",
       "      <th>29</th>\n",
       "      <td>30</td>\n",
       "      <td>Three Cheese Ziti, Marinara with Meatballs</td>\n",
       "      <td>38</td>\n",
       "      <td>1</td>\n",
       "    </tr>\n",
       "    <tr>\n",
       "      <th>...</th>\n",
       "      <td>...</td>\n",
       "      <td>...</td>\n",
       "      <td>...</td>\n",
       "      <td>...</td>\n",
       "    </tr>\n",
       "    <tr>\n",
       "      <th>49658</th>\n",
       "      <td>49659</td>\n",
       "      <td>Organic Creamed Coconut</td>\n",
       "      <td>17</td>\n",
       "      <td>13</td>\n",
       "    </tr>\n",
       "    <tr>\n",
       "      <th>49659</th>\n",
       "      <td>49660</td>\n",
       "      <td>Professionals Sleek Shampoo</td>\n",
       "      <td>22</td>\n",
       "      <td>11</td>\n",
       "    </tr>\n",
       "    <tr>\n",
       "      <th>49660</th>\n",
       "      <td>49661</td>\n",
       "      <td>Porto</td>\n",
       "      <td>134</td>\n",
       "      <td>5</td>\n",
       "    </tr>\n",
       "    <tr>\n",
       "      <th>49661</th>\n",
       "      <td>49662</td>\n",
       "      <td>Bacon Cheddar Pretzel Pieces</td>\n",
       "      <td>107</td>\n",
       "      <td>19</td>\n",
       "    </tr>\n",
       "    <tr>\n",
       "      <th>49662</th>\n",
       "      <td>49663</td>\n",
       "      <td>Ultra Protein Power Crunch Peanut Butter N' Ho...</td>\n",
       "      <td>57</td>\n",
       "      <td>14</td>\n",
       "    </tr>\n",
       "    <tr>\n",
       "      <th>49663</th>\n",
       "      <td>49664</td>\n",
       "      <td>Lemon Cayenne Drinking Vinegar</td>\n",
       "      <td>100</td>\n",
       "      <td>21</td>\n",
       "    </tr>\n",
       "    <tr>\n",
       "      <th>49664</th>\n",
       "      <td>49665</td>\n",
       "      <td>Super Dark Coconut Ash &amp; Banana Chocolate Bar</td>\n",
       "      <td>45</td>\n",
       "      <td>19</td>\n",
       "    </tr>\n",
       "    <tr>\n",
       "      <th>49665</th>\n",
       "      <td>49666</td>\n",
       "      <td>Ginger Snaps Snacking Cookies</td>\n",
       "      <td>61</td>\n",
       "      <td>19</td>\n",
       "    </tr>\n",
       "    <tr>\n",
       "      <th>49666</th>\n",
       "      <td>49667</td>\n",
       "      <td>Enchilada with Spanish Rice &amp; Beans Meal</td>\n",
       "      <td>38</td>\n",
       "      <td>1</td>\n",
       "    </tr>\n",
       "    <tr>\n",
       "      <th>49667</th>\n",
       "      <td>49668</td>\n",
       "      <td>Apple Cinnamon Scented Candles</td>\n",
       "      <td>101</td>\n",
       "      <td>17</td>\n",
       "    </tr>\n",
       "    <tr>\n",
       "      <th>49668</th>\n",
       "      <td>49669</td>\n",
       "      <td>K Cup Dark Blend</td>\n",
       "      <td>100</td>\n",
       "      <td>21</td>\n",
       "    </tr>\n",
       "    <tr>\n",
       "      <th>49669</th>\n",
       "      <td>49670</td>\n",
       "      <td>Beef Summer Sausage</td>\n",
       "      <td>106</td>\n",
       "      <td>12</td>\n",
       "    </tr>\n",
       "    <tr>\n",
       "      <th>49670</th>\n",
       "      <td>49671</td>\n",
       "      <td>Milk Chocolate Drops</td>\n",
       "      <td>45</td>\n",
       "      <td>19</td>\n",
       "    </tr>\n",
       "    <tr>\n",
       "      <th>49671</th>\n",
       "      <td>49672</td>\n",
       "      <td>Cafe Mocha K-Cup Packs</td>\n",
       "      <td>26</td>\n",
       "      <td>7</td>\n",
       "    </tr>\n",
       "    <tr>\n",
       "      <th>49672</th>\n",
       "      <td>49673</td>\n",
       "      <td>Stone Baked Multi Grain Artisan Rolls</td>\n",
       "      <td>129</td>\n",
       "      <td>1</td>\n",
       "    </tr>\n",
       "    <tr>\n",
       "      <th>49673</th>\n",
       "      <td>49674</td>\n",
       "      <td>Frozen Greek Yogurt Bars Chocolate Chip</td>\n",
       "      <td>37</td>\n",
       "      <td>1</td>\n",
       "    </tr>\n",
       "    <tr>\n",
       "      <th>49674</th>\n",
       "      <td>49675</td>\n",
       "      <td>Cinnamon Dolce Keurig Brewed K Cups</td>\n",
       "      <td>26</td>\n",
       "      <td>7</td>\n",
       "    </tr>\n",
       "    <tr>\n",
       "      <th>49675</th>\n",
       "      <td>49676</td>\n",
       "      <td>Ultra Red Energy Drink</td>\n",
       "      <td>64</td>\n",
       "      <td>7</td>\n",
       "    </tr>\n",
       "    <tr>\n",
       "      <th>49676</th>\n",
       "      <td>49677</td>\n",
       "      <td>Thick &amp; Chunky Sloppy Joe Sauce</td>\n",
       "      <td>59</td>\n",
       "      <td>15</td>\n",
       "    </tr>\n",
       "    <tr>\n",
       "      <th>49677</th>\n",
       "      <td>49678</td>\n",
       "      <td>Large Chicken &amp; Cheese Taquitos</td>\n",
       "      <td>129</td>\n",
       "      <td>1</td>\n",
       "    </tr>\n",
       "    <tr>\n",
       "      <th>49678</th>\n",
       "      <td>49679</td>\n",
       "      <td>Famous Chocolate Wafers</td>\n",
       "      <td>61</td>\n",
       "      <td>19</td>\n",
       "    </tr>\n",
       "    <tr>\n",
       "      <th>49679</th>\n",
       "      <td>49680</td>\n",
       "      <td>All Natural Creamy Caesar Dressing</td>\n",
       "      <td>89</td>\n",
       "      <td>13</td>\n",
       "    </tr>\n",
       "    <tr>\n",
       "      <th>49680</th>\n",
       "      <td>49681</td>\n",
       "      <td>Spaghetti with Meatballs and Sauce Meal</td>\n",
       "      <td>38</td>\n",
       "      <td>1</td>\n",
       "    </tr>\n",
       "    <tr>\n",
       "      <th>49681</th>\n",
       "      <td>49682</td>\n",
       "      <td>California Limeade</td>\n",
       "      <td>98</td>\n",
       "      <td>7</td>\n",
       "    </tr>\n",
       "    <tr>\n",
       "      <th>49682</th>\n",
       "      <td>49683</td>\n",
       "      <td>Cucumber Kirby</td>\n",
       "      <td>83</td>\n",
       "      <td>4</td>\n",
       "    </tr>\n",
       "    <tr>\n",
       "      <th>49683</th>\n",
       "      <td>49684</td>\n",
       "      <td>Vodka, Triple Distilled, Twist of Vanilla</td>\n",
       "      <td>124</td>\n",
       "      <td>5</td>\n",
       "    </tr>\n",
       "    <tr>\n",
       "      <th>49684</th>\n",
       "      <td>49685</td>\n",
       "      <td>En Croute Roast Hazelnut Cranberry</td>\n",
       "      <td>42</td>\n",
       "      <td>1</td>\n",
       "    </tr>\n",
       "    <tr>\n",
       "      <th>49685</th>\n",
       "      <td>49686</td>\n",
       "      <td>Artisan Baguette</td>\n",
       "      <td>112</td>\n",
       "      <td>3</td>\n",
       "    </tr>\n",
       "    <tr>\n",
       "      <th>49686</th>\n",
       "      <td>49687</td>\n",
       "      <td>Smartblend Healthy Metabolism Dry Cat Food</td>\n",
       "      <td>41</td>\n",
       "      <td>8</td>\n",
       "    </tr>\n",
       "    <tr>\n",
       "      <th>49687</th>\n",
       "      <td>49688</td>\n",
       "      <td>Fresh Foaming Cleanser</td>\n",
       "      <td>73</td>\n",
       "      <td>11</td>\n",
       "    </tr>\n",
       "  </tbody>\n",
       "</table>\n",
       "<p>49688 rows × 4 columns</p>\n",
       "</div>"
      ],
      "text/plain": [
       "       product_id                                       product_name  \\\n",
       "0               1                         Chocolate Sandwich Cookies   \n",
       "1               2                                   All-Seasons Salt   \n",
       "2               3               Robust Golden Unsweetened Oolong Tea   \n",
       "3               4  Smart Ones Classic Favorites Mini Rigatoni Wit...   \n",
       "4               5                          Green Chile Anytime Sauce   \n",
       "5               6                                       Dry Nose Oil   \n",
       "6               7                     Pure Coconut Water With Orange   \n",
       "7               8                  Cut Russet Potatoes Steam N' Mash   \n",
       "8               9                  Light Strawberry Blueberry Yogurt   \n",
       "9              10     Sparkling Orange Juice & Prickly Pear Beverage   \n",
       "10             11                                  Peach Mango Juice   \n",
       "11             12                         Chocolate Fudge Layer Cake   \n",
       "12             13                                  Saline Nasal Mist   \n",
       "13             14                     Fresh Scent Dishwasher Cleaner   \n",
       "14             15                           Overnight Diapers Size 6   \n",
       "15             16                      Mint Chocolate Flavored Syrup   \n",
       "16             17                                  Rendered Duck Fat   \n",
       "17             18                Pizza for One Suprema  Frozen Pizza   \n",
       "18             19   Gluten Free Quinoa Three Cheese & Mushroom Blend   \n",
       "19             20     Pomegranate Cranberry & Aloe Vera Enrich Drink   \n",
       "20             21                   Small & Medium Dental Dog Treats   \n",
       "21             22                  Fresh Breath Oral Rinse Mild Mint   \n",
       "22             23                             Organic Turkey Burgers   \n",
       "23             24  Tri-Vi-Sol® Vitamins A-C-and D Supplement Drop...   \n",
       "24             25            Salted Caramel Lean Protein & Fiber Bar   \n",
       "25             26        Fancy Feast Trout Feast Flaked Wet Cat Food   \n",
       "26             27  Complete Spring Water Foaming Antibacterial Ha...   \n",
       "27             28                                  Wheat Chex Cereal   \n",
       "28             29  Fresh Cut Golden Sweet No Salt Added Whole Ker...   \n",
       "29             30         Three Cheese Ziti, Marinara with Meatballs   \n",
       "...           ...                                                ...   \n",
       "49658       49659                            Organic Creamed Coconut   \n",
       "49659       49660                        Professionals Sleek Shampoo   \n",
       "49660       49661                                              Porto   \n",
       "49661       49662                       Bacon Cheddar Pretzel Pieces   \n",
       "49662       49663  Ultra Protein Power Crunch Peanut Butter N' Ho...   \n",
       "49663       49664                     Lemon Cayenne Drinking Vinegar   \n",
       "49664       49665      Super Dark Coconut Ash & Banana Chocolate Bar   \n",
       "49665       49666                      Ginger Snaps Snacking Cookies   \n",
       "49666       49667           Enchilada with Spanish Rice & Beans Meal   \n",
       "49667       49668                     Apple Cinnamon Scented Candles   \n",
       "49668       49669                                   K Cup Dark Blend   \n",
       "49669       49670                                Beef Summer Sausage   \n",
       "49670       49671                               Milk Chocolate Drops   \n",
       "49671       49672                             Cafe Mocha K-Cup Packs   \n",
       "49672       49673              Stone Baked Multi Grain Artisan Rolls   \n",
       "49673       49674            Frozen Greek Yogurt Bars Chocolate Chip   \n",
       "49674       49675                Cinnamon Dolce Keurig Brewed K Cups   \n",
       "49675       49676                             Ultra Red Energy Drink   \n",
       "49676       49677                    Thick & Chunky Sloppy Joe Sauce   \n",
       "49677       49678                    Large Chicken & Cheese Taquitos   \n",
       "49678       49679                            Famous Chocolate Wafers   \n",
       "49679       49680                 All Natural Creamy Caesar Dressing   \n",
       "49680       49681            Spaghetti with Meatballs and Sauce Meal   \n",
       "49681       49682                                 California Limeade   \n",
       "49682       49683                                     Cucumber Kirby   \n",
       "49683       49684          Vodka, Triple Distilled, Twist of Vanilla   \n",
       "49684       49685                 En Croute Roast Hazelnut Cranberry   \n",
       "49685       49686                                   Artisan Baguette   \n",
       "49686       49687         Smartblend Healthy Metabolism Dry Cat Food   \n",
       "49687       49688                             Fresh Foaming Cleanser   \n",
       "\n",
       "       aisle_id  department_id  \n",
       "0            61             19  \n",
       "1           104             13  \n",
       "2            94              7  \n",
       "3            38              1  \n",
       "4             5             13  \n",
       "5            11             11  \n",
       "6            98              7  \n",
       "7           116              1  \n",
       "8           120             16  \n",
       "9           115              7  \n",
       "10           31              7  \n",
       "11          119              1  \n",
       "12           11             11  \n",
       "13           74             17  \n",
       "14           56             18  \n",
       "15          103             19  \n",
       "16           35             12  \n",
       "17           79              1  \n",
       "18           63              9  \n",
       "19           98              7  \n",
       "20           40              8  \n",
       "21           20             11  \n",
       "22           49             12  \n",
       "23           47             11  \n",
       "24            3             19  \n",
       "25           41              8  \n",
       "26          127             11  \n",
       "27          121             14  \n",
       "28           81             15  \n",
       "29           38              1  \n",
       "...         ...            ...  \n",
       "49658        17             13  \n",
       "49659        22             11  \n",
       "49660       134              5  \n",
       "49661       107             19  \n",
       "49662        57             14  \n",
       "49663       100             21  \n",
       "49664        45             19  \n",
       "49665        61             19  \n",
       "49666        38              1  \n",
       "49667       101             17  \n",
       "49668       100             21  \n",
       "49669       106             12  \n",
       "49670        45             19  \n",
       "49671        26              7  \n",
       "49672       129              1  \n",
       "49673        37              1  \n",
       "49674        26              7  \n",
       "49675        64              7  \n",
       "49676        59             15  \n",
       "49677       129              1  \n",
       "49678        61             19  \n",
       "49679        89             13  \n",
       "49680        38              1  \n",
       "49681        98              7  \n",
       "49682        83              4  \n",
       "49683       124              5  \n",
       "49684        42              1  \n",
       "49685       112              3  \n",
       "49686        41              8  \n",
       "49687        73             11  \n",
       "\n",
       "[49688 rows x 4 columns]"
      ]
     },
     "execution_count": 61,
     "metadata": {},
     "output_type": "execute_result"
    }
   ],
   "source": [
    "products_file = pd.read_csv(products)\n",
    "products_file"
   ]
  },
  {
   "cell_type": "code",
   "execution_count": 62,
   "metadata": {
    "collapsed": true
   },
   "outputs": [],
   "source": [
    "product_name_1 = {}\n",
    "product_name_2 = {}\n",
    "product_name_3 = {}\n",
    "product_name_4 = {}\n",
    "product_name_5 = {}\n",
    "product_aisle_id = {}\n",
    "product_names = {}\n",
    "\n",
    "\n",
    "for i, row in products_file.iterrows(): \n",
    "    product_names[row['product_id']] = row['product_name']\n",
    "    words = text_to_wordlist(row['product_name']).split()[0:4]\n",
    "    length = len(words)\n",
    "    if length>0:\n",
    "        product_name_1[row['product_id']] = words[0]\n",
    "    else:\n",
    "        product_name_1[row['product_id']] = \"\"\n",
    "    if length>1:\n",
    "        product_name_2[row['product_id']] = words[1]\n",
    "    else:\n",
    "        product_name_2[row['product_id']] = \"\"\n",
    "    if length>2:\n",
    "        product_name_3[row['product_id']] = words[2]\n",
    "    else:\n",
    "        product_name_3[row['product_id']] = \"\"    \n",
    "    if length>3:\n",
    "        product_name_4[row['product_id']] = words[3]\n",
    "    else:\n",
    "        product_name_4[row['product_id']] = \"\"        \n",
    "    if length>4:\n",
    "        product_name_5[row['product_id']] = words[4]\n",
    "    else:\n",
    "        product_name_5[row['product_id']] = \"\"        \n",
    "    product_aisle_id[row['product_id']] = row['aisle_id']"
   ]
  },
  {
   "cell_type": "code",
   "execution_count": 63,
   "metadata": {
    "collapsed": true
   },
   "outputs": [],
   "source": [
    "def product_to_aisle(product_id):\n",
    "    global product_aisle_id\n",
    "    if product_id == 0:\n",
    "        return 0\n",
    "    else: \n",
    "        return product_aisle_id[product_id] \n",
    "product_to_aisle = np.vectorize(product_to_aisle)"
   ]
  },
  {
   "cell_type": "code",
   "execution_count": 64,
   "metadata": {},
   "outputs": [
    {
     "name": "stdout",
     "output_type": "stream",
     "text": [
      "Loading Glove Model\n",
      "('Done.', 400000, ' words loaded!')\n"
     ]
    }
   ],
   "source": [
    "file = \"glove.txt\"\n",
    "import io\n",
    "\n",
    "def loadGloveModel(gloveFile):\n",
    "    print (\"Loading Glove Model\")   \n",
    "    with io.open(gloveFile, encoding=\"utf8\" ) as f:\n",
    "        content = f.readlines()\n",
    "    model = {}\n",
    "    for line in content:\n",
    "        splitLine = line.split()\n",
    "        word = splitLine[0]\n",
    "        embedding = np.array([float(val) for val in splitLine[1:]])\n",
    "        model[word] = embedding\n",
    "    print (\"Done.\",len(model),\" words loaded!\")\n",
    "    return model\n",
    "     \n",
    "model = loadGloveModel(file)"
   ]
  },
  {
   "cell_type": "code",
   "execution_count": 65,
   "metadata": {},
   "outputs": [],
   "source": [
    "def gloveEmbedding(word):\n",
    "    global product_names\n",
    "    word = product_names[word]\n",
    "    global model\n",
    "    count = 0\n",
    "    embeddings = np.zeros(50, np.float16)\n",
    "    words = text_to_wordlist(word).split()\n",
    "    for i in range(len(words)):\n",
    "        try:\n",
    "            word_emb = model[words[i]].astype(np.float16)\n",
    "        except KeyError:\n",
    "            continue\n",
    "        embeddings = embeddings +  word_emb\n",
    "        count += 1\n",
    "    if count ==0:\n",
    "        count = 1\n",
    "    return embeddings/count"
   ]
  },
  {
   "cell_type": "code",
   "execution_count": 66,
   "metadata": {},
   "outputs": [],
   "source": [
    "def averageGloveEmbeddings(p):\n",
    "    ProductNameEmbeddingsInOrder = np.zeros(shape=[50],dtype=np.float16)\n",
    "    count=0\n",
    "    s=p.shape[0]\n",
    "    for i in range(s):\n",
    "        if (p[i] != 0):\n",
    "            ProductNameEmbeddingsInOrder = ProductNameEmbeddingsInOrder+gloveEmbedding(p[i])\n",
    "            count+=1\n",
    "    if count==0:\n",
    "        returnValue = ProductNameEmbeddingsInOrder/count\n",
    "    else:\n",
    "        returnValue = np.zeros(shape=[50],dtype=np.float16)\n",
    "    return(returnValue)"
   ]
  },
  {
   "cell_type": "code",
   "execution_count": 67,
   "metadata": {},
   "outputs": [
    {
     "name": "stdout",
     "output_type": "stream",
     "text": [
      "32 31\n"
     ]
    }
   ],
   "source": [
    "num_cores_total = multiprocessing.cpu_count()\n",
    "num_cores = multiprocessing.cpu_count() - 1\n",
    "worker_id = range(num_cores)\n",
    "print num_cores_total,num_cores"
   ]
  },
  {
   "cell_type": "code",
   "execution_count": 68,
   "metadata": {
    "collapsed": true
   },
   "outputs": [],
   "source": [
    "user_aisle_df_pd = user_aisle_df_pd.sample(frac=1)\n",
    "user_aisle_df_pd['worker_id'] = np.random.randint(0, num_cores, user_aisle_df_pd.shape[0])"
   ]
  },
  {
   "cell_type": "code",
   "execution_count": 69,
   "metadata": {
    "collapsed": true
   },
   "outputs": [],
   "source": [
    "def save_array(fname, arr):\n",
    "    c=bcolz.carray(arr, rootdir=fname, mode='w')\n",
    "    c.flush()"
   ]
  },
  {
   "cell_type": "code",
   "execution_count": 70,
   "metadata": {},
   "outputs": [],
   "source": [
    "def createArrays(wid):\n",
    "    user_aisle_df_pd_worker = user_aisle_df_pd[(user_aisle_df_pd.worker_id == wid)]\n",
    "    length = len(user_aisle_df_pd_worker)\n",
    "\n",
    "    user_id = np.zeros(shape=[length,],dtype=np.int32)\n",
    "    label = np.zeros(shape=[length,],dtype=np.int32)\n",
    "\n",
    "    master_aisle_id = np.zeros(shape=[length,],dtype=np.int32)\n",
    "    master_department_id = np.zeros(shape=[length,],dtype=np.int32)\n",
    "    IsInOrder_history = np.zeros(shape=[length,N],dtype=np.int32)\n",
    "    NextInOrder_history = np.zeros(shape=[length,N],dtype=np.int32)\n",
    "    NumProductsFromDep_history = np.zeros(shape=[length,N],dtype=np.int32)\n",
    "    OrderSize_history = np.zeros(shape=[length,N],dtype=np.int32)\n",
    "    IndexInOrder_history = np.zeros(shape=[length,N],dtype=np.int32)\n",
    "\n",
    "    ProductID1_history = np.zeros(shape=[length,N],dtype=np.int32)\n",
    "    ProductID2_history = np.zeros(shape=[length,N],dtype=np.int32)\n",
    "    ProductID3_history = np.zeros(shape=[length,N],dtype=np.int32)\n",
    "    ProductID4_history = np.zeros(shape=[length,N],dtype=np.int32)\n",
    "    ProductID5_history = np.zeros(shape=[length,N],dtype=np.int32)\n",
    "    ProductID6_history = np.zeros(shape=[length,N],dtype=np.int32)\n",
    "    ProductID7_history = np.zeros(shape=[length,N],dtype=np.int32)\n",
    "    ProductID8_history = np.zeros(shape=[length,N],dtype=np.int32)\n",
    "    ProductID9_history = np.zeros(shape=[length,N],dtype=np.int32)\n",
    "    ProductID10_history = np.zeros(shape=[length,N],dtype=np.int32)\n",
    "    ProductID11_history = np.zeros(shape=[length,N],dtype=np.int32)\n",
    "    ProductID12_history = np.zeros(shape=[length,N],dtype=np.int32)\n",
    "    ProductID13_history = np.zeros(shape=[length,N],dtype=np.int32)\n",
    "    ProductID14_history = np.zeros(shape=[length,N],dtype=np.int32)\n",
    "    ProductID15_history = np.zeros(shape=[length,N],dtype=np.int32)\n",
    "    ProductID16_history = np.zeros(shape=[length,N],dtype=np.int32)\n",
    "    ProductID17_history = np.zeros(shape=[length,N],dtype=np.int32)\n",
    "    ProductID18_history = np.zeros(shape=[length,N],dtype=np.int32)\n",
    "    ProductID19_history = np.zeros(shape=[length,N],dtype=np.int32)\n",
    "    ProductID20_history = np.zeros(shape=[length,N],dtype=np.int32)\n",
    "\n",
    "    ProductNameEmbedding_history = np.zeros(shape=[length,N,50],dtype=np.float16)\n",
    "\n",
    "    order_number_history = np.zeros(shape=[length,N],dtype=np.int32)\n",
    "    order_hour_of_day_history = np.zeros(shape=[length,N],dtype=np.int32)\n",
    "    order_dow_history = np.zeros(shape=[length,N],dtype=np.int32)\n",
    "    days_since_prior_order_history = np.zeros(shape=[length,N],dtype=np.int32)\n",
    "    history_length = np.zeros(shape=[length,],dtype=np.int32)\n",
    "\n",
    "    i=-1\n",
    "    for row_index, row in user_aisle_df_pd_worker.iterrows(): \n",
    "        i+=1 \n",
    "        user_id[i] = row['user_id']\n",
    "        master_aisle_id[i] = row['master_aisle_id']\n",
    "        if math.isnan(row['master_department_id']):\n",
    "            master_department_id[i] = MISSING_DEPARTMENT\n",
    "        else:\n",
    "            master_department_id[i] = row['master_department_id']    \n",
    "        IsInOrder_history[i,:] = ClipNPad(list(map(int,row['IsInOrder_history'].replace(\"[\",\"\").replace(\"]\",\"\").split(\",\"))),N)\n",
    "        NextInOrder_history[i,:] = np.roll(ClipNPad(list(map(int,row['IsInOrder_history'].replace(\"[\",\"\").replace(\"]\",\"\").split(\",\"))),N),-1,axis=0)\n",
    "        NumProductsFromDep_history[i,:] = ClipNPad(list(map(int,row['NumProductsFromDep_history'].replace(\"[\",\"\").replace(\"]\",\"\").split(\",\"))),N)\n",
    "        OrderSize_history[i,:] = ClipNPad(list(map(int,row['OrderSize_history'].replace(\"[\",\"\").replace(\"]\",\"\").split(\",\"))),N)\n",
    "\n",
    "        ProductIDs = list(map(int,row['ProductIDs_history'].replace(\"[\",\"\").replace(\"]\",\"\").replace(\"null\",\"0\").split(\",\")))\n",
    "\n",
    "        start=0\n",
    "        productsInorder = np.zeros(shape=[20],dtype=np.int32)\n",
    "\n",
    "        for z in range(N):\n",
    "            size = min(OrderSize_history[i,z],20)\n",
    "            if size==0:\n",
    "                break\n",
    "            end = start + size\n",
    "            productsInorder[0:size] = ProductIDs[start:end]\n",
    "\n",
    "            ProductNameEmbedding_history[i,z] = averageGloveEmbeddings(productsInorder[0:size])\n",
    "\n",
    "            ProductID1_history[i,z] = productsInorder[0]\n",
    "            ProductID2_history[i,z] = productsInorder[1]\n",
    "            ProductID3_history[i,z] = productsInorder[2]\n",
    "            ProductID4_history[i,z] = productsInorder[3]\n",
    "            ProductID5_history[i,z] = productsInorder[4]\n",
    "            ProductID6_history[i,z] = productsInorder[5]\n",
    "            ProductID7_history[i,z] = productsInorder[6]\n",
    "            ProductID8_history[i,z] = productsInorder[7]\n",
    "            ProductID9_history[i,z] = productsInorder[8]\n",
    "            ProductID10_history[i,z] = productsInorder[9]\n",
    "            ProductID11_history[i,z] = productsInorder[10]\n",
    "            ProductID12_history[i,z] = productsInorder[11]\n",
    "            ProductID13_history[i,z] = productsInorder[12]\n",
    "            ProductID14_history[i,z] = productsInorder[13]\n",
    "            ProductID15_history[i,z] = productsInorder[14]\n",
    "            ProductID16_history[i,z] = productsInorder[15]\n",
    "            ProductID17_history[i,z] = productsInorder[16]\n",
    "            ProductID18_history[i,z] = productsInorder[17]\n",
    "            ProductID19_history[i,z] = productsInorder[18]\n",
    "            ProductID20_history[i,z] = productsInorder[19]\n",
    "\n",
    "            start += size\n",
    "\n",
    "        IndexInOrder_history[i,:] = ClipNPad(list(map(float,row['IndexInOrder_history'].replace(\"[\",\"\").replace(\"]\",\"\").split(\",\"))),N)\n",
    "        order_number_history[i,:] = np.roll(ClipNPad(list(map(int,row['order_number_history'].replace(\"[\",\"\").replace(\"]\",\"\").split(\",\"))),N),-1,axis=0)\n",
    "        order_hour_of_day_history[i,:] = np.roll(ClipNPad(list(map(int,row['order_hour_of_day_history'].replace(\"[\",\"\").replace(\"]\",\"\").split(\",\"))),N),-1,axis=0)\n",
    "        order_dow_history[i,:] = np.roll(ClipNPad(list(map(int,row['order_dow_history'].replace(\"[\",\"\").replace(\"]\",\"\").split(\",\"))),N),-1, axis=0)\n",
    "        days_since_prior_order_history[i,:] = np.roll(ClipNPad(list(map(float,row['days_since_prior_order_history'].replace(\"[\",\"\").replace(\"]\",\"\").split(\",\"))),N),-1,axis=0)\n",
    "        history_length[i] = np.max(order_number_history[i,:]) - 1\n",
    "\n",
    "        #Create labels for final testing using the final step\n",
    "        label[i] = NextInOrder_history[i,history_length[i]] \n",
    "\n",
    "        #Remove the last step's information to ensure no leakage while validation\n",
    "        NextInOrder_history[i,history_length[i]] = 0\n",
    "        IsInOrder_history[i,history_length[i]] = 0\n",
    "        NumProductsFromDep_history[i,history_length[i]] = 0\n",
    "        OrderSize_history[i,history_length[i]] = 0\n",
    "        IndexInOrder_history[i,history_length[i]] = 0\n",
    "\n",
    "        ProductID1_history[i,history_length[i]] = 0\n",
    "        ProductID2_history[i,history_length[i]] = 0\n",
    "        ProductID3_history[i,history_length[i]] = 0\n",
    "        ProductID4_history[i,history_length[i]] = 0\n",
    "        ProductID5_history[i,history_length[i]] = 0\n",
    "        ProductID6_history[i,history_length[i]] = 0\n",
    "        ProductID7_history[i,history_length[i]] = 0\n",
    "        ProductID8_history[i,history_length[i]] = 0\n",
    "        ProductID9_history[i,history_length[i]] = 0\n",
    "        ProductID10_history[i,history_length[i]] = 0\n",
    "        ProductID11_history[i,history_length[i]] = 0\n",
    "        ProductID12_history[i,history_length[i]] = 0\n",
    "        ProductID13_history[i,history_length[i]] = 0\n",
    "        ProductID14_history[i,history_length[i]] = 0\n",
    "        ProductID15_history[i,history_length[i]] = 0\n",
    "        ProductID16_history[i,history_length[i]] = 0\n",
    "        ProductID17_history[i,history_length[i]] = 0\n",
    "        ProductID18_history[i,history_length[i]] = 0\n",
    "        ProductID19_history[i,history_length[i]] = 0\n",
    "        ProductID20_history[i,history_length[i]] = 0\n",
    "        \n",
    "        ProductNameEmbedding_history[i,history_length[i]] = np.zeros(shape=[50],dtype=np.float16)\n",
    "        \n",
    "    ProductID1_history_a = product_to_aisle(ProductID1_history).astype(np.int32) \n",
    "    ProductID2_history_a = product_to_aisle(ProductID2_history).astype(np.int32) \n",
    "    ProductID3_history_a = product_to_aisle(ProductID3_history).astype(np.int32) \n",
    "    ProductID4_history_a = product_to_aisle(ProductID4_history).astype(np.int32) \n",
    "    ProductID5_history_a = product_to_aisle(ProductID5_history).astype(np.int32) \n",
    "    ProductID6_history_a = product_to_aisle(ProductID6_history).astype(np.int32) \n",
    "    ProductID7_history_a = product_to_aisle(ProductID7_history).astype(np.int32) \n",
    "    ProductID8_history_a = product_to_aisle(ProductID8_history).astype(np.int32) \n",
    "    ProductID9_history_a = product_to_aisle(ProductID9_history).astype(np.int32) \n",
    "    ProductID10_history_a = product_to_aisle(ProductID10_history).astype(np.int32) \n",
    "    ProductID11_history_a = product_to_aisle(ProductID11_history).astype(np.int32) \n",
    "    ProductID12_history_a = product_to_aisle(ProductID12_history).astype(np.int32) \n",
    "    ProductID13_history_a = product_to_aisle(ProductID13_history).astype(np.int32) \n",
    "    ProductID14_history_a = product_to_aisle(ProductID14_history).astype(np.int32) \n",
    "    ProductID15_history_a = product_to_aisle(ProductID15_history).astype(np.int32) \n",
    "    ProductID16_history_a = product_to_aisle(ProductID16_history).astype(np.int32) \n",
    "    ProductID17_history_a = product_to_aisle(ProductID17_history).astype(np.int32) \n",
    "    ProductID18_history_a = product_to_aisle(ProductID18_history).astype(np.int32) \n",
    "    ProductID19_history_a = product_to_aisle(ProductID19_history).astype(np.int32) \n",
    "    ProductID20_history_a = product_to_aisle(ProductID20_history).astype(np.int32) \n",
    "\n",
    "    path_out = 'np/'\n",
    "    arrays = {\n",
    "        'user_id' : user_id,\n",
    "        'master_aisle_id' : master_aisle_id,\n",
    "        'master_department_id' : master_department_id,\n",
    "        'IsInOrder_history' : IsInOrder_history,\n",
    "        'NextInOrder_history' : NextInOrder_history,\n",
    "        'NumProductsFromDep_history' : NumProductsFromDep_history,\n",
    "        'OrderSize_history' : OrderSize_history,\n",
    "        'IndexInOrder_history' : IndexInOrder_history,\n",
    "        'order_number_history' : order_number_history,\n",
    "        'order_hour_of_day_history' : order_hour_of_day_history,\n",
    "        'order_dow_history' : order_dow_history,\n",
    "        'days_since_prior_order_history' : days_since_prior_order_history,\n",
    "        'history_length' : history_length,\n",
    "        'ProductID1_history' : ProductID1_history,\n",
    "        'ProductID2_history' : ProductID2_history,\n",
    "        'ProductID3_history' : ProductID3_history,\n",
    "        'ProductID4_history' : ProductID4_history,\n",
    "        'ProductID5_history' : ProductID5_history,\n",
    "        'ProductID6_history' : ProductID6_history,\n",
    "        'ProductID7_history' : ProductID7_history,\n",
    "        'ProductID8_history' : ProductID8_history,\n",
    "        'ProductID9_history' : ProductID9_history,\n",
    "        'ProductID10_history' : ProductID10_history,\n",
    "        'ProductID11_history' : ProductID11_history,\n",
    "        'ProductID12_history' : ProductID12_history,\n",
    "        'ProductID13_history' : ProductID13_history,\n",
    "        'ProductID14_history' : ProductID14_history,\n",
    "        'ProductID15_history' : ProductID15_history,\n",
    "        'ProductID16_history' : ProductID16_history,\n",
    "        'ProductID17_history' : ProductID17_history,\n",
    "        'ProductID18_history' : ProductID18_history,   \n",
    "        'ProductID19_history' : ProductID19_history,\n",
    "        'ProductID20_history' : ProductID20_history, \n",
    "        'ProductID1_history_a' : ProductID1_history_a,\n",
    "        'ProductID2_history_a' : ProductID2_history_a,\n",
    "        'ProductID3_history_a' : ProductID3_history_a,\n",
    "        'ProductID4_history_a' : ProductID4_history_a,\n",
    "        'ProductID5_history_a' : ProductID5_history_a,\n",
    "        'ProductID6_history_a' : ProductID6_history_a,\n",
    "        'ProductID7_history_a' : ProductID7_history_a,\n",
    "        'ProductID8_history_a' : ProductID8_history_a,\n",
    "        'ProductID9_history_a' : ProductID9_history_a,\n",
    "        'ProductID10_history_a' : ProductID10_history_a,\n",
    "        'ProductID11_history_a' : ProductID11_history_a,\n",
    "        'ProductID12_history_a' : ProductID12_history_a,\n",
    "        'ProductID13_history_a' : ProductID13_history_a,\n",
    "        'ProductID14_history_a' : ProductID14_history_a,\n",
    "        'ProductID15_history_a' : ProductID15_history_a,\n",
    "        'ProductID16_history_a' : ProductID16_history_a,\n",
    "        'ProductID17_history_a' : ProductID17_history_a,\n",
    "        'ProductID18_history_a' : ProductID18_history_a,   \n",
    "        'ProductID19_history_a' : ProductID19_history_a,\n",
    "        'ProductID20_history_a' : ProductID20_history_a,\n",
    "        'ProductNameEmbedding_history' : ProductNameEmbedding_history,\n",
    "        'label' : label\n",
    "    }\n",
    "\n",
    "    if not os.path.isdir(path_out):\n",
    "        os.mkdir(path_out)\n",
    "\n",
    "    # Save as bcolz arrays    \n",
    "    for key, value in arrays.items():\n",
    "        save_array(path_out + '{}_{}.npy'.format(key,wid), value) \n"
   ]
  },
  {
   "cell_type": "code",
   "execution_count": 71,
   "metadata": {},
   "outputs": [
    {
     "name": "stdout",
     "output_type": "stream",
     "text": [
      "took me 13045.454 seconds to do this..\n"
     ]
    }
   ],
   "source": [
    "tic()\n",
    "results = Parallel(n_jobs=num_cores)(delayed(createArrays)(i) for i in worker_id)\n",
    "toc()"
   ]
  },
  {
   "cell_type": "code",
   "execution_count": null,
   "metadata": {
    "collapsed": true
   },
   "outputs": [],
   "source": []
  },
  {
   "cell_type": "markdown",
   "metadata": {},
   "source": [
    "# Scrapbook"
   ]
  },
  {
   "cell_type": "code",
   "execution_count": null,
   "metadata": {
    "collapsed": true
   },
   "outputs": [],
   "source": []
  },
  {
   "cell_type": "code",
   "execution_count": null,
   "metadata": {
    "collapsed": true
   },
   "outputs": [],
   "source": []
  },
  {
   "cell_type": "code",
   "execution_count": null,
   "metadata": {
    "collapsed": true
   },
   "outputs": [],
   "source": []
  },
  {
   "cell_type": "code",
   "execution_count": null,
   "metadata": {
    "collapsed": true
   },
   "outputs": [],
   "source": []
  },
  {
   "cell_type": "code",
   "execution_count": null,
   "metadata": {
    "collapsed": true
   },
   "outputs": [],
   "source": []
  },
  {
   "cell_type": "code",
   "execution_count": null,
   "metadata": {
    "collapsed": true
   },
   "outputs": [],
   "source": [
    "train_percentage = 0.9\n",
    "val_percentage = 1.0 - (train_percentage)\n",
    "train_length = int(length * train_percentage)\n",
    "val_length = length - (train_length)\n",
    "\n",
    "for key, value in arrays.items():\n",
    "    np.save(path_out + '{}_val.npy'.format(key), value[np.arange((train_length),length)]) \n"
   ]
  },
  {
   "cell_type": "code",
   "execution_count": null,
   "metadata": {
    "collapsed": true
   },
   "outputs": [],
   "source": [
    "arrayList = [    'ProductID1_history',\n",
    "            'ProductID2_history',\n",
    "            'ProductID3_history',\n",
    "            'ProductID4_history',\n",
    "            'ProductID5_history',\n",
    "            'ProductID6_history',\n",
    "            'ProductID7_history',\n",
    "            'ProductID8_history',\n",
    "            'ProductID9_history',\n",
    "            'ProductID10_history',\n",
    "            'ProductID11_history',\n",
    "            'ProductID12_history',\n",
    "            'ProductID13_history',\n",
    "            'ProductID14_history',\n",
    "            'ProductID15_history',\n",
    "            'ProductID16_history',\n",
    "            'ProductID17_history',\n",
    "            'ProductID18_history',   \n",
    "            'ProductID19_history',\n",
    "            'ProductID20_history' ]\n",
    "\n",
    "for i in range(len(arrayList)):\n",
    "    np.save(path_out + '{}_a.npy'.format(arrayList[i]),\\\n",
    "            product_to_aisle(np.load(path_out + '{}.npy'.format(arrayList[i]))).astype(np.int32)) \n",
    "for i in range(len(arrayList)):\n",
    "    np.save(path_out + '{}_a_val.npy'.format(arrayList[i]),\\\n",
    "            product_to_aisle(np.load(path_out + '{}_val.npy'.format(arrayList[i]))).astype(np.int32)) "
   ]
  },
  {
   "cell_type": "code",
   "execution_count": null,
   "metadata": {
    "collapsed": true
   },
   "outputs": [],
   "source": []
  },
  {
   "cell_type": "code",
   "execution_count": null,
   "metadata": {
    "collapsed": true
   },
   "outputs": [],
   "source": []
  },
  {
   "cell_type": "code",
   "execution_count": null,
   "metadata": {
    "collapsed": true
   },
   "outputs": [],
   "source": []
  },
  {
   "cell_type": "code",
   "execution_count": null,
   "metadata": {
    "collapsed": true
   },
   "outputs": [],
   "source": []
  },
  {
   "cell_type": "code",
   "execution_count": null,
   "metadata": {
    "collapsed": true
   },
   "outputs": [],
   "source": []
  }
 ],
 "metadata": {
  "anaconda-cloud": {},
  "kernelspec": {
   "display_name": "Python 3",
   "language": "python",
   "name": "python3"
  },
  "language_info": {
   "codemirror_mode": {
    "name": "ipython",
    "version": 3
   },
   "file_extension": ".py",
   "mimetype": "text/x-python",
   "name": "python",
   "nbconvert_exporter": "python",
   "pygments_lexer": "ipython3",
   "version": "3.6.4"
  }
 },
 "nbformat": 4,
 "nbformat_minor": 1
}
