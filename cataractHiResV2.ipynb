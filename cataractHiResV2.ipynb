{
 "cells": [
  {
   "cell_type": "markdown",
   "metadata": {},
   "source": [
    "1. Check synchronization between image arrays - \n",
    "2. Check synchronization between labels and hires image arrays - Done\n",
    "3. Downsampling no tool frames and getting rid of false label frames\n",
    "\n",
    "3.5 Data Augmentation\n",
    "4. Create masks using FCN \n",
    "5. Dynamic Zoom \n",
    "\n",
    "Make array copy efficient. Use indexing instead of vstack"
   ]
  },
  {
   "cell_type": "code",
   "execution_count": 1,
   "metadata": {
    "collapsed": false
   },
   "outputs": [
    {
     "name": "stdout",
     "output_type": "stream",
     "text": [
      "Imageio: 'ffmpeg.linux64' was not found on your computer; downloading it now.\n",
      "Try 1. Download from https://github.com/imageio/imageio-binaries/raw/master/ffmpeg/ffmpeg.linux64 (27.2 MB)\n",
      "Downloading: 8192/28549024 bytes (0.0%)\b\b\b\b\b\b\b\b\b\b\b\b\b\b\b\b\b\b\b\b\b\b\b\b\b\b901120/28549024 bytes (3.2%)\b\b\b\b\b\b\b\b\b\b\b\b\b\b\b\b\b\b\b\b\b\b\b\b\b\b\b\b2555904/28549024 bytes (9.0%)\b\b\b\b\b\b\b\b\b\b\b\b\b\b\b\b\b\b\b\b\b\b\b\b\b\b\b\b\b5087232/28549024 bytes (17.8%)\b\b\b\b\b\b\b\b\b\b\b\b\b\b\b\b\b\b\b\b\b\b\b\b\b\b\b\b\b\b8216576/28549024 bytes (28.8%)\b\b\b\b\b\b\b\b\b\b\b\b\b\b\b\b\b\b\b\b\b\b\b\b\b\b\b\b\b\b11255808/28549024 bytes (39.4%)\b\b\b\b\b\b\b\b\b\b\b\b\b\b\b\b\b\b\b\b\b\b\b\b\b\b\b\b\b\b\b14368768/28549024 bytes (50.3%)\b\b\b\b\b\b\b\b\b\b\b\b\b\b\b\b\b\b\b\b\b\b\b\b\b\b\b\b\b\b\b17481728/28549024 bytes (61.2%)\b\b\b\b\b\b\b\b\b\b\b\b\b\b\b\b\b\b\b\b\b\b\b\b\b\b\b\b\b\b\b20594688/28549024 bytes (72.1%)\b\b\b\b\b\b\b\b\b\b\b\b\b\b\b\b\b\b\b\b\b\b\b\b\b\b\b\b\b\b\b23707648/28549024 bytes (83.0%)\b\b\b\b\b\b\b\b\b\b\b\b\b\b\b\b\b\b\b\b\b\b\b\b\b\b\b\b\b\b\b26828800/28549024 bytes (94.0%)\b\b\b\b\b\b\b\b\b\b\b\b\b\b\b\b\b\b\b\b\b\b\b\b\b\b\b\b\b\b\b28549024/28549024 bytes (100.0%)\n",
      "  Done\n",
      "File saved as /home/ubuntu/.imageio/ffmpeg/ffmpeg.linux64.\n"
     ]
    },
    {
     "name": "stderr",
     "output_type": "stream",
     "text": [
      "WARNING (theano.sandbox.cuda): The cuda backend is deprecated and will be removed in the next release (v0.10).  Please switch to the gpuarray backend. You can get more information about how to switch at this URL:\n",
      " https://github.com/Theano/Theano/wiki/Converting-to-the-new-gpu-back-end%28gpuarray%29\n",
      "\n",
      "Using gpu device 0: Tesla K80 (CNMeM is disabled, cuDNN 5103)\n",
      "Using Theano backend.\n"
     ]
    }
   ],
   "source": [
    "import imageio\n",
    "imageio.plugins.ffmpeg.download()\n",
    "import moviepy.editor as mpe\n",
    "from glob import glob\n",
    "import sys, os\n",
    "import numpy as np\n",
    "import scipy\n",
    "%matplotlib inline\n",
    "import matplotlib.pyplot as plt\n",
    "import gc\n",
    "from tqdm import tqdm\n",
    "from scipy import sparse\n",
    "from sklearn.utils.extmath import randomized_svd\n",
    "import bcolz\n",
    "import utils; reload(utils)\n",
    "from utils import *\n",
    "import scipy.signal as sci\n",
    "from keras.preprocessing.image import ImageDataGenerator\n",
    "import itertools\n"
   ]
  },
  {
   "cell_type": "code",
   "execution_count": 2,
   "metadata": {
    "collapsed": true
   },
   "outputs": [],
   "source": [
    "def create_data_matrix_from_video(clip,totalFrames,fps):\n",
    "    return np.array([frame for frame,i in itertools.ifilter(lambda x: x[1]%fps==0,\n",
    "                                                            zip(clip.iter_frames(),range(totalFrames)))])"
   ]
  },
  {
   "cell_type": "code",
   "execution_count": 3,
   "metadata": {
    "collapsed": true
   },
   "outputs": [],
   "source": [
    "def create_labels_for_video(path,name,totalFrames,fps):\n",
    "    p = pd.read_csv(path + name + '.csv')\n",
    "    return np.array([row for row,i in itertools.ifilter(lambda x: x[1]%fps==0,\n",
    "                                                            zip(p.itertuples(),range(totalFrames)))])   "
   ]
  },
  {
   "cell_type": "code",
   "execution_count": 4,
   "metadata": {
    "collapsed": true
   },
   "outputs": [],
   "source": [
    "def augmentData(mrgb):\n",
    "    #Need to add  code to simultaneously augment all arrays together\n",
    "    \n",
    "    hflip = ImageDataGenerator(horizontal_flip=True)\n",
    "    vflip = ImageDataGenerator(vertical_flip=True)\n",
    "    rotate = ImageDataGenerator(horizontal_flip=True,vertical_flip=True)\n",
    "    zoom = ImageDataGenerator(zoom_range=(0.8,1.1))\n",
    "\n",
    "    totalFrames = mrgb.shape[0]\n",
    "    mrgbAug = np.zeros([totalFrames, 3, 360, 640 ],dtype=np.uint8)\n",
    "\n",
    "    for frameIndex in range(totalFrames):\n",
    "        x_train = np.transpose(mrgb[frameIndex],(2,0,1))\n",
    "        images_0 = np.zeros([1, 3, 360, 640 ],dtype=np.uint8)\n",
    "        labels_dummy = np.zeros([1, 1],dtype=np.int8)\n",
    "        images_0[0] = x_train\n",
    "        images = np.zeros([1, 3, 360, 640 ],dtype=np.uint8)\n",
    "        if frameIndex%5==0:\n",
    "            for x,y in hflip.flow(images_0,labels_dummy,batch_size=1):\n",
    "                mrgbAug[frameIndex] = x\n",
    "                break\n",
    "        if frameIndex%5==1:\n",
    "            for x,y in vflip.flow(images_0,labels_dummy,batch_size=1):\n",
    "                mrgbAug[frameIndex] = x\n",
    "                break\n",
    "        if frameIndex%5==2:\n",
    "            for x,y in rotate.flow(images_0,labels_dummy,batch_size=1):\n",
    "                mrgbAug[frameIndex] = x\n",
    "                break\n",
    "        if frameIndex%5==3:\n",
    "            for x,y in zoom.flow(images_0,labels_dummy,batch_size=1):\n",
    "                mrgbAug[frameIndex] = x\n",
    "                break\n",
    "        if frameIndex%5==4:\n",
    "            mrgbAug[frameIndex] = x_train\n",
    "    del(mrgb)\n",
    "    gc.collect()\n",
    "    return mrgbAug"
   ]
  },
  {
   "cell_type": "code",
   "execution_count": 5,
   "metadata": {
    "collapsed": false
   },
   "outputs": [],
   "source": [
    "def processVideos(path,name):\n",
    "    \n",
    "    k=5\n",
    "    video = mpe.VideoFileClip(path+name+'.mp4',target_resolution=(360,640))\n",
    "    totalFrames = len([1 for frame in video.iter_frames()])\n",
    "    fps=int(math.ceil(video.fps/k))\n",
    "    \n",
    "    RGB_HiRes = augmentData(create_data_matrix_from_video(video, totalFrames,fps))\n",
    "    labels = create_labels_for_video(path,name,totalFrames,fps)\n",
    "    \n",
    "    save_array('../03_output/'+name+'_rgb_hires.dat',RGB_HiRes)\n",
    "    save_array('../03_output/'+name+'_labels.dat',labels)\n",
    "    \n",
    "    del(RGB_HiRes)\n",
    "    del(labels)\n",
    "    gc.collect()"
   ]
  },
  {
   "cell_type": "code",
   "execution_count": 6,
   "metadata": {
    "collapsed": false
   },
   "outputs": [
    {
     "name": "stdout",
     "output_type": "stream",
     "text": [
      "492.8 [1920, 1080] 29.18 train01\n",
      "426.01 [1920, 1080] 29.18 train17\n",
      "2434.16 [1920, 1080] 29.19 train19\n",
      "739.11 [1920, 1080] 29.18 train12\n",
      "940.93 [1920, 1080] 29.18 train08\n",
      "437.93 [1920, 1080] 29.18 train05\n",
      "876.18 [1920, 1080] 29.18 train10\n",
      "474.28 [1920, 1080] 29.2 train06\n",
      "480.45 [1920, 1080] 29.18 train13\n",
      "478.01 [1920, 1080] 29.18 train18\n",
      "529.72 [1920, 1080] 29.19 train21\n",
      "1398.14 [1920, 1080] 29.19 train25\n",
      "624.76 [1920, 1080] 29.18 train16\n",
      "580.12 [1920, 1080] 29.2 train20\n",
      "707.93 [1920, 1080] 29.19 train22\n",
      "547.14 [1920, 1080] 29.19 train09\n",
      "488.38 [1920, 1080] 29.18 train11\n",
      "383.05 [1920, 1080] 29.19 train23\n",
      "599.29 [1920, 1080] 29.18 train03\n",
      "637.03 [1920, 1080] 29.18 train24\n",
      "703.84 [1920, 1080] 29.19 train14\n",
      "471.53 [1920, 1080] 29.18 train15\n",
      "454.52 [1920, 1080] 29.18 train04\n",
      "642.82 [1920, 1080] 29.19 train07\n",
      "405.45 [1920, 1080] 29.19 train02\n",
      "16953.58\n"
     ]
    }
   ],
   "source": [
    "videos = glob('../01_input/train/*.mp4')   \n",
    "totalDuration = 0\n",
    "for i in range(len(videos)):\n",
    "    name = videos[i].split(\"../01_input/train/\")[1].split('.mp4')[0]\n",
    "    video = mpe.VideoFileClip('../01_input/train/'+name+'.mp4')\n",
    "    print video.duration, video.size, video.fps, name\n",
    "    totalDuration += video.duration\n",
    "print totalDuration"
   ]
  },
  {
   "cell_type": "code",
   "execution_count": 7,
   "metadata": {
    "collapsed": false
   },
   "outputs": [
    {
     "name": "stderr",
     "output_type": "stream",
     "text": [
      "100%|██████████| 23/23 [1:43:32<00:00, 265.37s/it]\n"
     ]
    }
   ],
   "source": [
    "files = ['train01','train02','train03','train04','train05','train06','train07','train08','train09','train10','train11',\n",
    "         'train12','train13','train14','train15','train16','train17','train18','train20','train21','train22',\n",
    "         'train23','train24'] # Excluding 'train25' & 'train19' as they are too large.\n",
    "for i in tqdm(range(len(files))):\n",
    "    processVideos('../01_input/train/',files[i])"
   ]
  },
  {
   "cell_type": "code",
   "execution_count": 6,
   "metadata": {
    "collapsed": false
   },
   "outputs": [
    {
     "name": "stderr",
     "output_type": "stream",
     "text": [
      "100%|██████████| 1/1 [10:48<00:00, 648.08s/it]\n"
     ]
    }
   ],
   "source": [
    "files = ['train25'] # Execute on 64 GB aws 'train25' as it is too large.\n",
    "for i in tqdm(range(len(files))):\n",
    "    processVideos('../01_input/train/',files[i])"
   ]
  },
  {
   "cell_type": "code",
   "execution_count": null,
   "metadata": {
    "collapsed": true
   },
   "outputs": [],
   "source": [
    "files = ['train19'] # Execute on 64 GB aws 'train19' as it is too large.\n",
    "for i in tqdm(range(len(files))):\n",
    "    processVideos('../01_input/train/',files[i])"
   ]
  },
  {
   "cell_type": "markdown",
   "metadata": {},
   "source": [
    "One time fix to add one label to train22"
   ]
  },
  {
   "cell_type": "code",
   "execution_count": 3,
   "metadata": {
    "collapsed": false
   },
   "outputs": [
    {
     "data": {
      "text/plain": [
       "(3445, 23, 40, 1024)"
      ]
     },
     "execution_count": 3,
     "metadata": {},
     "output_type": "execute_result"
    }
   ],
   "source": [
    "temp = load_array('/home/ubuntu/cataract4/03_output/train22_fcf_feat.dat')\n",
    "temp.shape"
   ]
  },
  {
   "cell_type": "code",
   "execution_count": 2,
   "metadata": {
    "collapsed": false
   },
   "outputs": [
    {
     "data": {
      "text/plain": [
       "(3445, 23)"
      ]
     },
     "execution_count": 2,
     "metadata": {},
     "output_type": "execute_result"
    }
   ],
   "source": [
    "labels_val = load_array('/cataract/home/ubuntu/cataract/03_output/train22_labels.dat')\n",
    "labels_val.shape\n",
    "temp_labels = np.zeros([3445, 23],dtype=np.float64)\n",
    "temp_labels[1:3445,0:23]=labels_val[0:3444,0:23]\n",
    "temp_labels.shape"
   ]
  },
  {
   "cell_type": "code",
   "execution_count": 4,
   "metadata": {
    "collapsed": true
   },
   "outputs": [],
   "source": [
    "save_array('/cataract/home/ubuntu/cataract/03_output/train22_labels.dat',temp_labels)"
   ]
  },
  {
   "cell_type": "markdown",
   "metadata": {},
   "source": [
    "# Scrapbook"
   ]
  },
  {
   "cell_type": "code",
   "execution_count": null,
   "metadata": {
    "collapsed": false
   },
   "outputs": [],
   "source": [
    "processVideos('../01_input/train/','train01')"
   ]
  },
  {
   "cell_type": "code",
   "execution_count": null,
   "metadata": {
    "collapsed": false
   },
   "outputs": [],
   "source": [
    "#path='../01_input/train/'\n",
    "#name='train01'\n",
    "#k=5\n",
    "#video = mpe.VideoFileClip(path+name+'.mp4',target_resolution=(360,640))\n",
    "#totalFrames = len([1 for frame in video.iter_frames()])\n",
    "#fps=int(math.ceil(video.fps/k))\n",
    "\n",
    "#RGB_HiRes = create_data_matrix_from_video(video, totalFrames,fps)\n",
    "RGB_HiRes_aug = augmentData(RGB_HiRes)"
   ]
  },
  {
   "cell_type": "code",
   "execution_count": null,
   "metadata": {
    "collapsed": false
   },
   "outputs": [],
   "source": [
    "RGB_HiRes.shape"
   ]
  },
  {
   "cell_type": "code",
   "execution_count": null,
   "metadata": {
    "collapsed": false
   },
   "outputs": [],
   "source": [
    "RGB_HiRes_aug.shape"
   ]
  },
  {
   "cell_type": "code",
   "execution_count": null,
   "metadata": {
    "collapsed": false
   },
   "outputs": [],
   "source": [
    "rgb_hires = load_array('../03_output/train01_rgb_hires.dat')\n",
    "rgb_hires.shape"
   ]
  },
  {
   "cell_type": "code",
   "execution_count": null,
   "metadata": {
    "collapsed": false
   },
   "outputs": [],
   "source": [
    "labels = load_array('../03_output/train01_labels.dat')\n",
    "labels.shape"
   ]
  },
  {
   "cell_type": "code",
   "execution_count": null,
   "metadata": {
    "collapsed": false
   },
   "outputs": [],
   "source": [
    "temp = np.transpose(rgb_hires,(0,2,3,1))"
   ]
  },
  {
   "cell_type": "code",
   "execution_count": null,
   "metadata": {
    "collapsed": false
   },
   "outputs": [],
   "source": [
    "plt.imshow(RGB_HiRes[21])"
   ]
  },
  {
   "cell_type": "code",
   "execution_count": null,
   "metadata": {
    "collapsed": false
   },
   "outputs": [],
   "source": [
    "labels[21]"
   ]
  },
  {
   "cell_type": "code",
   "execution_count": null,
   "metadata": {
    "collapsed": false
   },
   "outputs": [],
   "source": [
    "plt.imshow(temp[12])"
   ]
  },
  {
   "cell_type": "code",
   "execution_count": null,
   "metadata": {
    "collapsed": false
   },
   "outputs": [],
   "source": [
    "plt.imshow(temp[7])"
   ]
  },
  {
   "cell_type": "code",
   "execution_count": null,
   "metadata": {
    "collapsed": false
   },
   "outputs": [],
   "source": [
    "plt.imshow(temp[8])"
   ]
  },
  {
   "cell_type": "code",
   "execution_count": null,
   "metadata": {
    "collapsed": false
   },
   "outputs": [],
   "source": [
    "plt.imshow(temp[9])"
   ]
  },
  {
   "cell_type": "code",
   "execution_count": null,
   "metadata": {
    "collapsed": false
   },
   "outputs": [],
   "source": [
    "labels[:,8]"
   ]
  },
  {
   "cell_type": "code",
   "execution_count": null,
   "metadata": {
    "collapsed": false
   },
   "outputs": [],
   "source": [
    "p = pd.read_csv('../01_input/train/train01.csv')"
   ]
  },
  {
   "cell_type": "code",
   "execution_count": null,
   "metadata": {
    "collapsed": false
   },
   "outputs": [],
   "source": [
    "p"
   ]
  }
 ],
 "metadata": {
  "anaconda-cloud": {},
  "kernelspec": {
   "display_name": "Python [conda root]",
   "language": "python",
   "name": "conda-root-py"
  },
  "language_info": {
   "codemirror_mode": {
    "name": "ipython",
    "version": 2
   },
   "file_extension": ".py",
   "mimetype": "text/x-python",
   "name": "python",
   "nbconvert_exporter": "python",
   "pygments_lexer": "ipython2",
   "version": "2.7.12"
  }
 },
 "nbformat": 4,
 "nbformat_minor": 1
}
