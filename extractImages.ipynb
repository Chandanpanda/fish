{
 "cells": [
  {
   "cell_type": "markdown",
   "metadata": {},
   "source": [
    "# Extract images at 432 * 768 resolution and 10 fps from mp4 videos\n",
    "\n",
    "Requirements : 64 GB RAM, tqdm, imageio and moviepy\n",
    "\n",
    "Runtime : 240 mins on aws i3.2xlarge instance"
   ]
  },
  {
   "cell_type": "code",
   "execution_count": 1,
   "metadata": {
    "collapsed": false
   },
   "outputs": [
    {
     "name": "stdout",
     "output_type": "stream",
     "text": [
      "Imageio: 'ffmpeg.linux64' was not found on your computer; downloading it now.\n",
      "Try 1. Download from https://github.com/imageio/imageio-binaries/raw/master/ffmpeg/ffmpeg.linux64 (27.2 MB)\n",
      "Downloading: 8192/28549024 bytes (0.0%)\b\b\b\b\b\b\b\b\b\b\b\b\b\b\b\b\b\b\b\b\b\b\b\b\b\b835584/28549024 bytes (2.9%)\b\b\b\b\b\b\b\b\b\b\b\b\b\b\b\b\b\b\b\b\b\b\b\b\b\b\b\b2326528/28549024 bytes (8.1%)\b\b\b\b\b\b\b\b\b\b\b\b\b\b\b\b\b\b\b\b\b\b\b\b\b\b\b\b\b4710400/28549024 bytes (16.5%)\b\b\b\b\b\b\b\b\b\b\b\b\b\b\b\b\b\b\b\b\b\b\b\b\b\b\b\b\b\b7831552/28549024 bytes (27.4%)\b\b\b\b\b\b\b\b\b\b\b\b\b\b\b\b\b\b\b\b\b\b\b\b\b\b\b\b\b\b10903552/28549024 bytes (38.2%)\b\b\b\b\b\b\b\b\b\b\b\b\b\b\b\b\b\b\b\b\b\b\b\b\b\b\b\b\b\b\b14057472/28549024 bytes (49.2%)\b\b\b\b\b\b\b\b\b\b\b\b\b\b\b\b\b\b\b\b\b\b\b\b\b\b\b\b\b\b\b17211392/28549024 bytes (60.3%)\b\b\b\b\b\b\b\b\b\b\b\b\b\b\b\b\b\b\b\b\b\b\b\b\b\b\b\b\b\b\b20340736/28549024 bytes (71.2%)\b\b\b\b\b\b\b\b\b\b\b\b\b\b\b\b\b\b\b\b\b\b\b\b\b\b\b\b\b\b\b23486464/28549024 bytes (82.3%)\b\b\b\b\b\b\b\b\b\b\b\b\b\b\b\b\b\b\b\b\b\b\b\b\b\b\b\b\b\b\b26566656/28549024 bytes (93.1%)\b\b\b\b\b\b\b\b\b\b\b\b\b\b\b\b\b\b\b\b\b\b\b\b\b\b\b\b\b\b\b28549024/28549024 bytes (100.0%)\n",
      "  Done\n",
      "File saved as /home/ubuntu/.imageio/ffmpeg/ffmpeg.linux64.\n"
     ]
    },
    {
     "name": "stderr",
     "output_type": "stream",
     "text": [
      "Using Theano backend.\n",
      "WARNING (theano.sandbox.cuda): CUDA is installed, but device gpu is not available  (error: Unable to get the number of gpus available: unknown error)\n"
     ]
    }
   ],
   "source": [
    "import imageio\n",
    "imageio.plugins.ffmpeg.download()\n",
    "import moviepy.editor as mpe\n",
    "from glob import glob\n",
    "import sys, os\n",
    "import numpy as np\n",
    "import scipy\n",
    "%matplotlib inline\n",
    "import matplotlib.pyplot as plt\n",
    "import gc\n",
    "from tqdm import tqdm\n",
    "from scipy import sparse\n",
    "from sklearn.utils.extmath import randomized_svd\n",
    "import bcolz\n",
    "import utils; reload(utils)\n",
    "from utils import *\n",
    "import scipy.signal as sci\n",
    "from keras.preprocessing.image import ImageDataGenerator\n",
    "import itertools\n"
   ]
  },
  {
   "cell_type": "code",
   "execution_count": 2,
   "metadata": {
    "collapsed": true
   },
   "outputs": [],
   "source": [
    "def create_data_matrix_from_video(clip,totalFrames,fps):\n",
    "    return np.array([frame for frame,i in itertools.ifilter(lambda x: x[1]%fps==0,\n",
    "                                                            zip(clip.iter_frames(),range(totalFrames)))])"
   ]
  },
  {
   "cell_type": "code",
   "execution_count": 3,
   "metadata": {
    "collapsed": true
   },
   "outputs": [],
   "source": [
    "def create_labels_for_video(path,name,totalFrames,fps):\n",
    "    p = pd.read_csv(path + name + '.csv')\n",
    "    return np.array([row for row,i in itertools.ifilter(lambda x: x[1]%fps==0,\n",
    "                                                            zip(p.itertuples(),range(totalFrames)))])   "
   ]
  },
  {
   "cell_type": "code",
   "execution_count": 4,
   "metadata": {
    "collapsed": false
   },
   "outputs": [],
   "source": [
    "def processVideos(path,name):\n",
    "    \n",
    "    k=10\n",
    "    video = mpe.VideoFileClip(path+name+'.mp4',target_resolution=(432,768))\n",
    "    totalFrames = len([1 for frame in video.iter_frames()])\n",
    "    fps=int(math.ceil(video.fps/k))\n",
    "    \n",
    "    RGB_HiRes = create_data_matrix_from_video(video, totalFrames,fps)\n",
    "    labels = create_labels_for_video('../in/train/labels/',name,totalFrames,fps)\n",
    "    \n",
    "    save_array('../in/train/hires/'+name+'_hires.dat',RGB_HiRes)\n",
    "    save_array('../in/train/labels/'+name+'_labels.dat',labels)\n",
    "    \n",
    "    del(RGB_HiRes)\n",
    "    del(labels)\n",
    "    gc.collect()"
   ]
  },
  {
   "cell_type": "code",
   "execution_count": 5,
   "metadata": {
    "collapsed": false
   },
   "outputs": [
    {
     "name": "stdout",
     "output_type": "stream",
     "text": [
      "492.8 [1920, 1080] 29.18 train01\n",
      "426.01 [1920, 1080] 29.18 train17\n",
      "2434.16 [1920, 1080] 29.19 train19\n",
      "739.11 [1920, 1080] 29.18 train12\n",
      "940.93 [1920, 1080] 29.18 train08\n",
      "437.93 [1920, 1080] 29.18 train05\n",
      "876.18 [1920, 1080] 29.18 train10\n",
      "474.28 [1920, 1080] 29.2 train06\n",
      "480.45 [1920, 1080] 29.18 train13\n",
      "478.01 [1920, 1080] 29.18 train18\n",
      "529.72 [1920, 1080] 29.19 train21\n",
      "1398.14 [1920, 1080] 29.19 train25\n",
      "624.76 [1920, 1080] 29.18 train16\n",
      "580.12 [1920, 1080] 29.2 train20\n",
      "707.93 [1920, 1080] 29.19 train22\n",
      "547.14 [1920, 1080] 29.19 train09\n",
      "488.38 [1920, 1080] 29.18 train11\n",
      "383.05 [1920, 1080] 29.19 train23\n",
      "599.29 [1920, 1080] 29.18 train03\n",
      "637.03 [1920, 1080] 29.18 train24\n",
      "703.84 [1920, 1080] 29.19 train14\n",
      "471.53 [1920, 1080] 29.18 train15\n",
      "454.52 [1920, 1080] 29.18 train04\n",
      "642.82 [1920, 1080] 29.19 train07\n",
      "405.45 [1920, 1080] 29.19 train02\n",
      "16953.58\n"
     ]
    }
   ],
   "source": [
    "videos = glob('../in/train/mp4/*.mp4')   \n",
    "totalDuration = 0\n",
    "for i in range(len(videos)):\n",
    "    name = videos[i].split(\"../in/train/mp4/\")[1].split('.mp4')[0]\n",
    "    video = mpe.VideoFileClip('../in/train/mp4/'+name+'.mp4')\n",
    "    print video.duration, video.size, video.fps, name\n",
    "    totalDuration += video.duration\n",
    "print totalDuration"
   ]
  },
  {
   "cell_type": "code",
   "execution_count": null,
   "metadata": {
    "collapsed": false
   },
   "outputs": [
    {
     "name": "stderr",
     "output_type": "stream",
     "text": [
      " 12%|█▏        | 3/25 [13:24<1:36:11, 262.32s/it]"
     ]
    }
   ],
   "source": [
    "files = ['train01','train02','train03','train04','train05','train06','train07','train08','train09','train10','train11',\n",
    "         'train12','train13','train14','train15','train16','train17','train18','train19','train20','train21','train22',\n",
    "         'train23','train24' , 'train25'] \n",
    "\n",
    "for i in tqdm(range(len(files))):\n",
    "    processVideos('../in/train/mp4/',files[i])"
   ]
  },
  {
   "cell_type": "markdown",
   "metadata": {
    "collapsed": true
   },
   "source": [
    "# Create Validation dataset (i.e. 360 x 640 resolution @ 10 fps)\n",
    "videos 03, 04, 10, 18, 21 - 100%"
   ]
  },
  {
   "cell_type": "code",
   "execution_count": 4,
   "metadata": {
    "collapsed": true
   },
   "outputs": [],
   "source": [
    "def center_crop(x, random_crop_size, mode = ''):\n",
    "    #mode can be center (blanks), top_left, top_right, bottom_left or bottom_right\n",
    "    w, h = x.shape[1], x.shape[2] \n",
    "    rangew = (w - random_crop_size[0]) // 2 \n",
    "    rangeh = (h - random_crop_size[1]) // 2 \n",
    "    if mode=='top_left':\n",
    "        rangew = 0 \n",
    "        rangeh = 0 \n",
    "    if mode=='top_right':\n",
    "        rangew = 0\n",
    "        rangeh = (w - random_crop_size[0]) \n",
    "    if mode=='bottom_left':\n",
    "        rangew = (w - random_crop_size[0])\n",
    "        rangeh = 0 \n",
    "    if mode=='bottom_right':\n",
    "        rangew = (w - random_crop_size[0])\n",
    "        rangeh = (w - random_crop_size[0])\n",
    "    offsetw = 0 if rangew == 0 else rangew\n",
    "    offseth = 0 if rangeh == 0 else rangeh\n",
    "    return x[:, offsetw:offsetw+random_crop_size[0], offseth:offseth+random_crop_size[1]]"
   ]
  },
  {
   "cell_type": "code",
   "execution_count": 5,
   "metadata": {
    "collapsed": false
   },
   "outputs": [],
   "source": [
    "def resizeVideos(mode):\n",
    "    files = ['train03','train04','train10','train18','train21']\n",
    "    for i in range(len(files)):\n",
    "        RGB_HiRes = load_array('../in/train/hires/'+files[i]+'_hires.dat')\n",
    "        labels = load_array('../in/train/labels/'+files[i]+'_labels.dat')\n",
    "        totalFrames = labels.shape[0]\n",
    "        rgbResized = np.zeros([totalFrames, 360, 640 , 3 ],dtype=np.uint8) #360,640\n",
    "        rgbResized = center_crop(RGB_HiRes, (360,640),mode)#360,640\n",
    "        save_array('../in/train/hires/'+files[i]+mode+'_val_hires.dat',rgbResized)\n",
    "        save_array('../in/train/labels/'+files[i]+'_val_labels.dat',labels)\n",
    "        del(RGB_HiRes,labels,rgbResized)\n",
    "        gc.collect() "
   ]
  },
  {
   "cell_type": "markdown",
   "metadata": {},
   "source": [
    "videos 14,19 and 24 - Only 20% of frames with Vannas.scissors, Mendez.ring, vitrectomy.handpiece, needle.holder or biomarker"
   ]
  },
  {
   "cell_type": "code",
   "execution_count": 6,
   "metadata": {
    "collapsed": false
   },
   "outputs": [],
   "source": [
    "def extractValidationFrames(mode):\n",
    "    \n",
    "    files = ['train14','train19','train24']\n",
    "    for i in range(len(files)):\n",
    "        RGB_HiRes = load_array('../in/train/hires/'+files[i]+'_hires.dat')\n",
    "        labels = load_array('../in/train/labels/'+files[i]+'_labels.dat')\n",
    "        totalFrames = labels.shape[0]\n",
    "        rgbResized = np.zeros([25000, 360, 640 , 3 ],dtype=np.uint8) # <== Hardcoded to 1000 to save memory\n",
    "        rgbResizedLabels = np.zeros([totalFrames, 23 ],dtype=np.int8)\n",
    "        rgbMinusVal = np.zeros([totalFrames, 432, 768 , 3 ],dtype=np.uint8) #432,768\n",
    "        rgbMinusValLabels = np.zeros([totalFrames, 23 ],dtype=np.int8)\n",
    "        rgbResizedIndex = 0\n",
    "        rgbMinusValIndex = 0\n",
    "        Label_0_FramesToKeepInValidation = 6\n",
    "        Label_1_FramesToKeepInValidation = 1822\n",
    "        Label_10_FramesToKeepInValidation = 15\n",
    "        Label_13_FramesToKeepInValidation = 912\n",
    "        Label_19_FramesToKeepInValidation = 35\n",
    "        Label_20_FramesToKeepInValidation = 15\n",
    "\n",
    "        for j in range(totalFrames):\n",
    "            validation = False       \n",
    "            if (labels[j,2]==1) and (Label_0_FramesToKeepInValidation>0):\n",
    "                Label_0_FramesToKeepInValidation -= 1\n",
    "                validation = True\n",
    "            if (labels[j,3]==1) and (Label_1_FramesToKeepInValidation>0):\n",
    "                Label_1_FramesToKeepInValidation -= 1\n",
    "                validation = True \n",
    "            if (labels[j,12]==1) and (Label_10_FramesToKeepInValidation>0):\n",
    "                Label_10_FramesToKeepInValidation -= 1\n",
    "                validation = True    \n",
    "            if (labels[j,15]==1) and (Label_13_FramesToKeepInValidation>0):\n",
    "                Label_13_FramesToKeepInValidation -= 1\n",
    "                validation = True    \n",
    "            if (labels[j,21]==1) and (Label_19_FramesToKeepInValidation>0):\n",
    "                Label_19_FramesToKeepInValidation -= 1\n",
    "                validation = True    \n",
    "            if (labels[j,22]==1) and (Label_20_FramesToKeepInValidation>0):\n",
    "                Label_20_FramesToKeepInValidation -= 1\n",
    "                validation = True                \n",
    "            if validation ==True :\n",
    "                rgbResized[rgbResizedIndex] = center_crop(np.expand_dims(RGB_HiRes[j],0), (360,640),mode)[0] #360,640\n",
    "                rgbResizedLabels[rgbResizedIndex] = labels[j]\n",
    "                rgbResizedIndex += 1\n",
    "            else:\n",
    "                if mode=='':\n",
    "                    rgbMinusVal[rgbMinusValIndex] = RGB_HiRes[j]\n",
    "                    rgbMinusValLabels[rgbMinusValIndex] = labels[j]\n",
    "                    rgbMinusValIndex += 1\n",
    "\n",
    "        save_array('../in/train/labels/'+files[i]+'_val_labels.dat',rgbResizedLabels[0:rgbResizedIndex])\n",
    "        save_array('../in/train/hires/'+files[i]+mode+'_val_hires.dat',rgbResized[0:rgbResizedIndex])\n",
    "        if mode=='':\n",
    "            save_array('../in/train/labels/'+files[i]+'_minus_val_labels.dat',rgbMinusValLabels[0:rgbMinusValIndex])\n",
    "            save_array('../in/train/hires/'+files[i]+'_minus_val_hires.dat',rgbMinusVal[0:rgbMinusValIndex])\n",
    "        print rgbResizedLabels[0:rgbResizedIndex].shape, rgbResized[0:rgbResizedIndex].shape,rgbMinusValLabels[0:rgbMinusValIndex].shape, rgbMinusVal[0:rgbMinusValIndex].shape\n",
    "        del(RGB_HiRes,labels,rgbResized,rgbResizedLabels,rgbMinusVal,rgbMinusValLabels)\n",
    "        gc.collect() "
   ]
  },
  {
   "cell_type": "markdown",
   "metadata": {},
   "source": [
    "Remove 0.5 labeled frames from validation dataset"
   ]
  },
  {
   "cell_type": "code",
   "execution_count": 7,
   "metadata": {
    "collapsed": false
   },
   "outputs": [],
   "source": [
    "def remove0_5(mode):\n",
    "    \n",
    "    files = ['train03','train04','train10','train18','train21', 'train14','train19','train24']\n",
    "\n",
    "    for i in range(len(files)):\n",
    "        RGB_HiRes = load_array('../in/train/hires/'+files[i]+mode+'_val_hires.dat')\n",
    "        labels = load_array('../in/train/labels/'+files[i]+'_val_labels.dat')\n",
    "        totalFrames = labels.shape[0]\n",
    "        rgbNew = np.zeros([totalFrames, 360, 640 , 3 ],dtype=np.uint8)\n",
    "        labelNew = np.zeros([totalFrames, 23 ],dtype=np.int8)\n",
    "        index = 0\n",
    "        for frameIndex in range(totalFrames):\n",
    "            if labels[frameIndex,2]==0.5 or labels[frameIndex,3]==0.5 or labels[frameIndex,4]==0.5 or labels[frameIndex,5]==0.5 or labels[frameIndex,6]==0.5 or labels[frameIndex,7]==0.5 or labels[frameIndex,8]==0.5 or labels[frameIndex,9]==0.5 or labels[frameIndex,10]==0.5 or labels[frameIndex,11]==0.5 or labels[frameIndex,12]==0.5 or labels[frameIndex,13]==0.5 or labels[frameIndex,14]==0.5 or labels[frameIndex,15]==0.5 or labels[frameIndex,16]==0.5 or labels[frameIndex,17]==0.5 or labels[frameIndex,6]==0.5 or labels[frameIndex,18]==0.5 or labels[frameIndex,19]==0.5 or labels[frameIndex,20]==0.5 or labels[frameIndex,21]==0.5 or labels[frameIndex,22]==0.5:\n",
    "                 index += 0\n",
    "            else:\n",
    "                rgbNew[index] = RGB_HiRes[frameIndex]\n",
    "                labelNew[index] = labels[frameIndex]\n",
    "                index += 1\n",
    "        save_array('../in/train/hires/'+files[i]+mode+'_val_minus_0p5_hires.dat',rgbNew[0:index])\n",
    "        save_array('../in/train/labels/'+files[i]+'_val_minus_0p5_labels.dat',labelNew[0:index])\n",
    "        print rgbNew[0:index].shape, labelNew[0:index].shape, RGB_HiRes.shape, labels.shape, index\n",
    "        del(RGB_HiRes,labels,rgbNew,labelNew)"
   ]
  },
  {
   "cell_type": "code",
   "execution_count": 8,
   "metadata": {
    "collapsed": true
   },
   "outputs": [],
   "source": [
    "def generateTestTimeAugmentationPatches(mode):\n",
    "    resizeVideos(mode)\n",
    "    extractValidationFrames(mode)\n",
    "    remove0_5(mode)"
   ]
  },
  {
   "cell_type": "code",
   "execution_count": 9,
   "metadata": {
    "collapsed": false
   },
   "outputs": [
    {
     "name": "stdout",
     "output_type": "stream",
     "text": [
      "(83, 23) (83, 360, 640, 3) (0, 23) (0, 432, 768, 3)\n",
      "(2734, 23) (2734, 360, 640, 3) (0, 23) (0, 432, 768, 3)\n",
      "(41, 23) (41, 360, 640, 3) (0, 23) (0, 432, 768, 3)\n",
      "(5695, 360, 640, 3) (5695, 23) (5830, 360, 640, 3) (5830, 23) 5695\n",
      "(4384, 360, 640, 3) (4384, 23) (4421, 360, 640, 3) (4421, 23) 4384\n",
      "(8389, 360, 640, 3) (8389, 23) (8523, 360, 640, 3) (8523, 23) 8389\n",
      "(4565, 360, 640, 3) (4565, 23) (4650, 360, 640, 3) (4650, 23) 4565\n",
      "(4884, 360, 640, 3) (4884, 23) (5155, 360, 640, 3) (5155, 23) 4884\n",
      "(83, 360, 640, 3) (83, 23) (83, 360, 640, 3) (83, 23) 83\n",
      "(2734, 360, 640, 3) (2734, 23) (2734, 360, 640, 3) (2734, 23) 2734\n",
      "(41, 360, 640, 3) (41, 23) (41, 360, 640, 3) (41, 23) 41\n"
     ]
    }
   ],
   "source": [
    "generateTestTimeAugmentationPatches('')\n",
    "generateTestTimeAugmentationPatches('top_left')\n",
    "generateTestTimeAugmentationPatches('top_right')\n",
    "generateTestTimeAugmentationPatches('bottom_left')\n",
    "generateTestTimeAugmentationPatches('bottom_right')"
   ]
  },
  {
   "cell_type": "markdown",
   "metadata": {
    "collapsed": true
   },
   "source": [
    "# Mark unwanted frames"
   ]
  },
  {
   "cell_type": "code",
   "execution_count": 10,
   "metadata": {
    "collapsed": false
   },
   "outputs": [
    {
     "data": {
      "text/plain": [
       "(array([ 0. ,  0.5,  1. ,  1.5,  2. ,  2.5,  3. ]),\n",
       " array([62706,  2108, 46971,   325, 21299,    44,    57]))"
      ]
     },
     "execution_count": 10,
     "metadata": {},
     "output_type": "execute_result"
    }
   ],
   "source": [
    "files = ['train01','train02','train05','train06','train07','train08','train09','train11',\n",
    "         'train12','train13','train14_minus_val','train15','train16','train17','train19_minus_val','train20',\n",
    "         'train22','train23','train24_minus_val','train25'] \n",
    "\n",
    "labels = load_array('/cat/home/ubuntu/cat/in/train/labels/train01_labels.dat')\n",
    "for i in range(1,len(files)):\n",
    "    lbl = load_array('/cat/home/ubuntu/cat/in/train/labels/'+files[i]+'_labels.dat')\n",
    "    labels = np.vstack((labels,lbl))\n",
    "    del(lbl)\n",
    "    gc.collect()\n",
    "#labels[labels==0.5]=999\n",
    "anyLabel = sum(np.transpose(labels)[3:23,:])\n",
    "from scipy.ndimage.interpolation import shift\n",
    "\n",
    "lagggedLabels = shift(anyLabel, -15, cval=1)\n",
    "lagggedLabels[lagggedLabels<0.5]=0\n",
    "for i in range(30):\n",
    "    temp = shift(anyLabel, -14+i, cval=1)\n",
    "    temp[temp<0.5]=0\n",
    "    lagggedLabels = np.vstack((lagggedLabels,temp))\n",
    "\n",
    "anyLabelLag15 = sum(lagggedLabels)\n",
    "anyLabelLag15[anyLabelLag15>0]=1\n",
    "keepOrNot = np.vstack((anyLabel,anyLabelLag15)).T\n",
    "unique, counts = np.unique(keepOrNot[:,0], return_counts=True)\n",
    "unique, counts"
   ]
  },
  {
   "cell_type": "code",
   "execution_count": 11,
   "metadata": {
    "collapsed": false
   },
   "outputs": [
    {
     "data": {
      "text/plain": [
       "(array([ 0.,  1.]), array([48302, 85208]))"
      ]
     },
     "execution_count": 11,
     "metadata": {},
     "output_type": "execute_result"
    }
   ],
   "source": [
    "unique, counts = np.unique(keepOrNot[:,1], return_counts=True)\n",
    "unique, counts"
   ]
  },
  {
   "cell_type": "code",
   "execution_count": 12,
   "metadata": {
    "collapsed": false
   },
   "outputs": [
    {
     "data": {
      "text/plain": [
       "(133510, 2)"
      ]
     },
     "execution_count": 12,
     "metadata": {},
     "output_type": "execute_result"
    }
   ],
   "source": [
    "keepOrNot.shape"
   ]
  },
  {
   "cell_type": "code",
   "execution_count": 13,
   "metadata": {
    "collapsed": false
   },
   "outputs": [
    {
     "name": "stdout",
     "output_type": "stream",
     "text": [
      "train01 14380 4794\n",
      "train17 12433 4144\n",
      "train19 71066 23685\n",
      "train12 21574 7190\n",
      "train08 27463 9153\n",
      "train05 12778 4260\n",
      "train10 25569 8523\n",
      "train06 13848 4616\n",
      "train13 14021 4674\n",
      "train18 13952 4650\n",
      "train21 15463 5155\n",
      "train25 40820 13604\n",
      "train16 18232 6077\n",
      "train20 16939 5647\n",
      "train22 20664 6888\n",
      "train09 15973 5324\n",
      "train11 14252 4751\n",
      "train23 11182 3728\n",
      "train03 17490 5830\n",
      "train24 18591 6197\n",
      "train14 20544 6848\n",
      "train15 13762 4587\n",
      "train04 13266 4421\n",
      "train07 18769 6255\n",
      "train02 11837 3946\n",
      "494868 164956 164947\n"
     ]
    }
   ],
   "source": [
    "#QC\n",
    "videos = glob('/cat/home/ubuntu/cat/in/train/mp4/*.mp4')\n",
    "path='/cat/home/ubuntu/cat/in/train/labels/'\n",
    "totalFrames = 0\n",
    "totalFrames_Array = 0\n",
    "for i in range(len(videos)):\n",
    "    name = videos[i].split(\"/cat/home/ubuntu/cat/in/train/mp4/\")[1].split('.mp4')[0]\n",
    "    labels_file = pd.read_csv(path + name + '.csv').values\n",
    "    labels_array = load_array('/cat/home/ubuntu/cat/in/train/labels/'+name+'_labels.dat')\n",
    "    print name, labels_file.shape[0] , labels_array.shape[0]\n",
    "    totalFrames += labels_file.shape[0]\n",
    "    totalFrames_Array += labels_array.shape[0]\n",
    "print totalFrames,totalFrames/3, totalFrames_Array"
   ]
  },
  {
   "cell_type": "code",
   "execution_count": 14,
   "metadata": {
    "collapsed": false
   },
   "outputs": [],
   "source": [
    "keepFileindex=0\n",
    "arrayIndex = 0\n",
    "FIRST_TIME = True\n",
    "for j in range(keepOrNot.shape[0]):\n",
    "    FringeFrame = 1\n",
    "    if(keepOrNot[j,0]<4):\n",
    "        if((keepOrNot[j,1]==0 and keepOrNot[j,0]==0) or keepOrNot[j,0]>0):\n",
    "            FringeFrame = 0\n",
    "    labels[j,1] = FringeFrame"
   ]
  },
  {
   "cell_type": "code",
   "execution_count": 15,
   "metadata": {
    "collapsed": false
   },
   "outputs": [
    {
     "name": "stdout",
     "output_type": "stream",
     "text": [
      "4794\n",
      "8740\n",
      "13000\n",
      "17616\n",
      "23871\n",
      "33024\n",
      "38348\n",
      "43099\n",
      "50289\n",
      "54963\n",
      "61728\n",
      "66315\n",
      "72392\n",
      "76536\n",
      "97487\n",
      "103134\n",
      "110022\n",
      "113750\n",
      "119906\n",
      "133510\n"
     ]
    }
   ],
   "source": [
    "files = ['train01','train02','train05','train06','train07','train08','train09','train11',\n",
    "         'train12','train13','train14_minus_val','train15','train16','train17','train19_minus_val','train20',\n",
    "         'train22','train23','train24_minus_val','train25'] \n",
    "index = 0\n",
    "for i in range(len(files)):\n",
    "    lbl = load_array('/cat/home/ubuntu/cat/in/train/labels/'+files[i]+'_labels.dat')\n",
    "    save_array('../in/train/labels/'+files[i]+'_aug_labels.dat',labels[index:index+lbl.shape[0]])\n",
    "    index += lbl.shape[0]\n",
    "    print index"
   ]
  },
  {
   "cell_type": "markdown",
   "metadata": {},
   "source": [
    "## QC"
   ]
  },
  {
   "cell_type": "code",
   "execution_count": 16,
   "metadata": {
    "collapsed": false
   },
   "outputs": [
    {
     "name": "stdout",
     "output_type": "stream",
     "text": [
      "(4794, 23) (4794, 23)\n",
      "(3946, 23) (3946, 23)\n",
      "(4260, 23) (4260, 23)\n",
      "(4616, 23) (4616, 23)\n",
      "(6255, 23) (6255, 23)\n",
      "(9153, 23) (9153, 23)\n",
      "(5324, 23) (5324, 23)\n",
      "(4751, 23) (4751, 23)\n",
      "(7190, 23) (7190, 23)\n",
      "(4674, 23) (4674, 23)\n",
      "(6765, 23) (6765, 23)\n",
      "(4587, 23) (4587, 23)\n",
      "(6077, 23) (6077, 23)\n",
      "(4144, 23) (4144, 23)\n",
      "(20951, 23) (20951, 23)\n",
      "(5647, 23) (5647, 23)\n",
      "(6888, 23) (6888, 23)\n",
      "(3728, 23) (3728, 23)\n",
      "(6156, 23) (6156, 23)\n",
      "(13604, 23) (13604, 23)\n"
     ]
    }
   ],
   "source": [
    "files = ['train01','train02','train05','train06','train07','train08','train09','train11',\n",
    "         'train12','train13','train14_minus_val','train15','train16','train17','train19_minus_val','train20',\n",
    "         'train22','train23','train24_minus_val','train25'] \n",
    "for i in range(len(files)):\n",
    "    lbl = load_array('/cat/home/ubuntu/cat/in/train/labels/'+files[i]+'_labels.dat')\n",
    "    lbl2 = load_array('/cat/home/ubuntu/cat/in/train/labels/'+files[i]+'_aug_labels.dat')\n",
    "    print lbl.shape, lbl2.shape"
   ]
  },
  {
   "cell_type": "code",
   "execution_count": 17,
   "metadata": {
    "collapsed": false
   },
   "outputs": [
    {
     "data": {
      "text/plain": [
       "array([ 9000.,  9001.,     0.,     0.,     0.,     0.,     0.,     0.,     0.,     0.,     0.,\n",
       "           0.,     0.,     0.,     0.,     0.,     0.,     0.,     0.,     0.,     0.,     0.,\n",
       "           0.])"
      ]
     },
     "execution_count": 17,
     "metadata": {},
     "output_type": "execute_result"
    }
   ],
   "source": [
    "lbl[3000]"
   ]
  },
  {
   "cell_type": "code",
   "execution_count": 18,
   "metadata": {
    "collapsed": false
   },
   "outputs": [
    {
     "data": {
      "text/plain": [
       "array([ 9000.,     0.,     0.,     0.,     0.,     0.,     0.,     0.,     0.,     0.,     0.,\n",
       "           0.,     0.,     0.,     0.,     0.,     0.,     0.,     0.,     0.,     0.,     0.,\n",
       "           0.])"
      ]
     },
     "execution_count": 18,
     "metadata": {},
     "output_type": "execute_result"
    }
   ],
   "source": [
    "lbl2[3000]"
   ]
  },
  {
   "cell_type": "code",
   "execution_count": 19,
   "metadata": {
    "collapsed": false
   },
   "outputs": [
    {
     "name": "stdout",
     "output_type": "stream",
     "text": [
      "50.0 50.0\n"
     ]
    }
   ],
   "source": [
    "print np.sum(lbl[:,20]), np.sum(lbl2[:,20])"
   ]
  },
  {
   "cell_type": "code",
   "execution_count": null,
   "metadata": {
    "collapsed": true
   },
   "outputs": [],
   "source": []
  }
 ],
 "metadata": {
  "anaconda-cloud": {},
  "kernelspec": {
   "display_name": "Python [conda root]",
   "language": "python",
   "name": "conda-root-py"
  },
  "language_info": {
   "codemirror_mode": {
    "name": "ipython",
    "version": 2
   },
   "file_extension": ".py",
   "mimetype": "text/x-python",
   "name": "python",
   "nbconvert_exporter": "python",
   "pygments_lexer": "ipython2",
   "version": "2.7.12"
  }
 },
 "nbformat": 4,
 "nbformat_minor": 1
}
